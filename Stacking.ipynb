{
 "cells": [
  {
   "cell_type": "code",
   "execution_count": 13,
   "metadata": {},
   "outputs": [],
   "source": [
    "import pandas as pd\n",
    "import numpy as np\n",
    "from sklearn.model_selection import train_test_split\n",
    "from sklearn.model_selection import KFold\n",
    "from sklearn.preprocessing import LabelEncoder\n",
    "\n",
    "#import cleaned dataset from last project\n",
    "housing_data = pd.DataFrame.from_csv('train.csv')\n",
    "housing_data = housing_data.dropna(axis=1, how='any')\n",
    "\n",
    "Y = housing_data['SalePrice']\n",
    "\n",
    "columns = housing_data.columns\n",
    "column_dtypes = housing_data.dtypes\n",
    "numerical_types = [np.int64, np.int32, np.float32, np.float64]\n",
    "\n",
    "valid_col = [columns[i] for i in range(len(columns)) if column_dtypes[i] in numerical_types]\n",
    "#print(valid_col)\n",
    "X = pd.DataFrame(housing_data, columns = valid_col)\n",
    "\n",
    "del[housing_data['SalePrice']]\n",
    "#columns = housing_data.columns\n",
    "#column_dtypes = housing_data.dtypes\n",
    "#numerical_types = [np.int64, np.int32, np.float32, np.float64]\n",
    "\n",
    "#valid_col = [columns[i] for i in range(len(columns)) if column_dtypes[i] in numerical_types]\n",
    "#X = pd.DataFrame(housing_data, columns = valid_col)\n",
    "\n",
    "\n",
    "# splits into training and testing\n",
    "X_train, X_test, Y_train, Y_test = train_test_split(X, Y, test_size=.1)\n",
    "# splits training into 4 folds\n",
    "kf = KFold(n_splits = 4)\n",
    "split1, split2, split3, split4 = kf.split(X_train, Y_train)"
   ]
  },
  {
   "cell_type": "code",
   "execution_count": 14,
   "metadata": {},
   "outputs": [
    {
     "name": "stdout",
     "output_type": "stream",
     "text": [
      "kNN: 0.158054711246\n"
     ]
    }
   ],
   "source": [
    "# kNN - uses first fold\n",
    "X_train_kNN = X_train.iloc[split1[0]]\n",
    "X_test_kNN = X_train.iloc[split1[1]]\n",
    "Y_train_kNN = Y_train.iloc[split1[0]]\n",
    "Y_test_kNN = Y_train.iloc[split1[1]]\n",
    "\n",
    "from sklearn.neighbors import KNeighborsClassifier\n",
    "kNN = KNeighborsClassifier()\n",
    "kNN.fit(X_train_kNN, Y_train_kNN)\n",
    "kNN_pred = kNN.predict(X_test_kNN)\n",
    "\n",
    "kNN_score = (Y_test_kNN == kNN_pred).sum() / len(kNN_pred)\n",
    "print(\"kNN: \" + str(kNN_score))"
   ]
  }
 ],
 "metadata": {
  "kernelspec": {
   "display_name": "Python 3",
   "language": "python",
   "name": "python3"
  },
  "language_info": {
   "codemirror_mode": {
    "name": "ipython",
    "version": 3
   },
   "file_extension": ".py",
   "mimetype": "text/x-python",
   "name": "python",
   "nbconvert_exporter": "python",
   "pygments_lexer": "ipython3",
   "version": "3.6.1"
  }
 },
 "nbformat": 4,
 "nbformat_minor": 2
}
