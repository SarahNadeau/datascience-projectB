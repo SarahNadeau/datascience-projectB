{
 "cells": [
  {
   "cell_type": "code",
   "execution_count": 19,
   "metadata": {},
   "outputs": [
    {
     "ename": "ValueError",
     "evalue": "Cannot have number of splits n_splits=4 greater than the number of samples: 0.",
     "output_type": "error",
     "traceback": [
      "\u001b[0;31m---------------------------------------------------------------------------\u001b[0m",
      "\u001b[0;31mValueError\u001b[0m                                Traceback (most recent call last)",
      "\u001b[0;32m<ipython-input-19-e8717258fa65>\u001b[0m in \u001b[0;36m<module>\u001b[0;34m()\u001b[0m\n\u001b[1;32m     23\u001b[0m \u001b[0;31m# splits training into 4 folds\u001b[0m\u001b[0;34m\u001b[0m\u001b[0;34m\u001b[0m\u001b[0m\n\u001b[1;32m     24\u001b[0m \u001b[0mkf\u001b[0m \u001b[0;34m=\u001b[0m \u001b[0mKFold\u001b[0m\u001b[0;34m(\u001b[0m\u001b[0mn_splits\u001b[0m \u001b[0;34m=\u001b[0m \u001b[0;36m4\u001b[0m\u001b[0;34m)\u001b[0m\u001b[0;34m\u001b[0m\u001b[0m\n\u001b[0;32m---> 25\u001b[0;31m \u001b[0msplit1\u001b[0m\u001b[0;34m,\u001b[0m \u001b[0msplit2\u001b[0m\u001b[0;34m,\u001b[0m \u001b[0msplit3\u001b[0m\u001b[0;34m,\u001b[0m \u001b[0msplit4\u001b[0m \u001b[0;34m=\u001b[0m \u001b[0mkf\u001b[0m\u001b[0;34m.\u001b[0m\u001b[0msplit\u001b[0m\u001b[0;34m(\u001b[0m\u001b[0mX_train\u001b[0m\u001b[0;34m,\u001b[0m \u001b[0mY_train\u001b[0m\u001b[0;34m)\u001b[0m\u001b[0;34m\u001b[0m\u001b[0m\n\u001b[0m",
      "\u001b[0;32m/Applications/anaconda/lib/python3.6/site-packages/sklearn/model_selection/_split.py\u001b[0m in \u001b[0;36msplit\u001b[0;34m(self, X, y, groups)\u001b[0m\n\u001b[1;32m    318\u001b[0m                 (\"Cannot have number of splits n_splits={0} greater\"\n\u001b[1;32m    319\u001b[0m                  \u001b[0;34m\" than the number of samples: {1}.\"\u001b[0m\u001b[0;34m)\u001b[0m\u001b[0;34m.\u001b[0m\u001b[0mformat\u001b[0m\u001b[0;34m(\u001b[0m\u001b[0mself\u001b[0m\u001b[0;34m.\u001b[0m\u001b[0mn_splits\u001b[0m\u001b[0;34m,\u001b[0m\u001b[0;34m\u001b[0m\u001b[0m\n\u001b[0;32m--> 320\u001b[0;31m                                                              n_samples))\n\u001b[0m\u001b[1;32m    321\u001b[0m \u001b[0;34m\u001b[0m\u001b[0m\n\u001b[1;32m    322\u001b[0m         \u001b[0;32mfor\u001b[0m \u001b[0mtrain\u001b[0m\u001b[0;34m,\u001b[0m \u001b[0mtest\u001b[0m \u001b[0;32min\u001b[0m \u001b[0msuper\u001b[0m\u001b[0;34m(\u001b[0m\u001b[0m_BaseKFold\u001b[0m\u001b[0;34m,\u001b[0m \u001b[0mself\u001b[0m\u001b[0;34m)\u001b[0m\u001b[0;34m.\u001b[0m\u001b[0msplit\u001b[0m\u001b[0;34m(\u001b[0m\u001b[0mX\u001b[0m\u001b[0;34m,\u001b[0m \u001b[0my\u001b[0m\u001b[0;34m,\u001b[0m \u001b[0mgroups\u001b[0m\u001b[0;34m)\u001b[0m\u001b[0;34m:\u001b[0m\u001b[0;34m\u001b[0m\u001b[0m\n",
      "\u001b[0;31mValueError\u001b[0m: Cannot have number of splits n_splits=4 greater than the number of samples: 0."
     ]
    }
   ],
   "source": [
    "import pandas as pd\n",
    "import numpy as np\n",
    "from sklearn.model_selection import train_test_split\n",
    "from sklearn.model_selection import KFold\n",
    "from sklearn.preprocessing import LabelEncoder\n",
    "\n",
    "#import cleaned dataset from last project\n",
    "housing_data = pd.DataFrame.from_csv('train.csv')\n",
    "housing_data = housing_data.dropna(axis=0, how='any')\n",
    "\n",
    "Y = housing_data['SalePrice']\n",
    "X = housing_data[['GarageArea', 'LotArea', 'GrLivArea']]\n",
    "#columns = housing_data.columns\n",
    "#column_dtypes = housing_data.dtypes\n",
    "#numerical_types = [np.int64, np.int32, np.float32, np.float64]\n",
    "\n",
    "#valid_col = [columns[i] for i in range(len(columns)) if column_dtypes[i] in numerical_types]\n",
    "#X = pd.DataFrame(housing_data, columns = valid_col)\n",
    "\n",
    "\n",
    "# splits into training and testing\n",
    "X_train, X_test, Y_train, Y_test = train_test_split(X, Y, test_size=.1)\n",
    "# splits training into 4 folds\n",
    "kf = KFold(n_splits = 4)\n",
    "split1, split2, split3, split4 = kf.split(X_train, Y_train)"
   ]
  },
  {
   "cell_type": "code",
   "execution_count": null,
   "metadata": {},
   "outputs": [],
   "source": [
    "# kNN - uses first fold\n",
    "X_train_kNN = X_train.iloc[split1[0]]\n",
    "X_test_kNN = X_train.iloc[split1[1]]\n",
    "Y_train_kNN = Y_train.iloc[split1[0]]\n",
    "Y_test_kNN = Y_train.iloc[split1[1]]\n",
    "\n",
    "from sklearn.neighbors import KNeighborsClassifier\n",
    "kNN = KNeighborsClassifier()\n",
    "kNN.fit(X_train_kNN, Y_train_kNN)\n",
    "kNN_pred = kNN.predict(X_test_kNN)\n",
    "\n",
    "kNN_score = (Y_test_kNN == kNN_pred).sum() / len(kNN_pred)\n",
    "print(\"kNN: \" + str(kNN_score))"
   ]
  }
 ],
 "metadata": {
  "kernelspec": {
   "display_name": "Python 3",
   "language": "python",
   "name": "python3"
  },
  "language_info": {
   "codemirror_mode": {
    "name": "ipython",
    "version": 3
   },
   "file_extension": ".py",
   "mimetype": "text/x-python",
   "name": "python",
   "nbconvert_exporter": "python",
   "pygments_lexer": "ipython3",
   "version": "3.6.1"
  }
 },
 "nbformat": 4,
 "nbformat_minor": 2
}
