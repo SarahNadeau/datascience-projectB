{
 "cells": [
  {
   "cell_type": "code",
   "execution_count": 1,
   "metadata": {
    "collapsed": true
   },
   "outputs": [],
   "source": [
    "import seaborn as sns\n",
    "import numpy as np\n",
    "import sklearn\n",
    "import pandas as pd\n",
    "import matplotlib.pyplot as plt\n",
    "from sklearn import datasets, preprocessing, svm\n",
    "from sklearn.metrics import accuracy_score\n",
    "from sklearn.model_selection import train_test_split\n",
    "from sklearn.preprocessing import LabelEncoder\n",
    "from sklearn.tree import DecisionTreeClassifier\n",
    "from sklearn.tree import export_graphviz\n",
    "from collections import Counter\n",
    "import random"
   ]
  },
  {
   "cell_type": "code",
   "execution_count": 2,
   "metadata": {
    "collapsed": true
   },
   "outputs": [],
   "source": [
    "#import cleaned dataset from last project\n",
    "data = pd.DataFrame.from_csv('cleaned.csv')"
   ]
  },
  {
   "cell_type": "code",
   "execution_count": 3,
   "metadata": {},
   "outputs": [
    {
     "name": "stdout",
     "output_type": "stream",
     "text": [
      "Counter({'NAmes': 225, 'CollgCr': 149, 'OldTown': 113, 'Edwards': 100, 'Somerst': 86, 'Gilbert': 79, 'NridgHt': 76, 'Sawyer': 74, 'NWAmes': 73, 'SawyerW': 59, 'BrkSide': 58, 'Crawfor': 51, 'Mitchel': 49, 'NoRidge': 41, 'IDOTRR': 37, 'Timber': 37, 'ClearCr': 28, 'StoneBr': 25, 'SWISU': 25, 'MeadowV': 17, 'Blmngtn': 17, 'BrDale': 16, 'Veenker': 11, 'NPkVill': 9, 'Blueste': 2})\n",
      "Number of Neighborhood types: 25\n",
      "Baseline accuracy: 0.15442690459849004\n"
     ]
    }
   ],
   "source": [
    "# Decision Tree Model\n",
    "# Take a look at the target variable distribution and calculate baseline\n",
    "c = Counter(data['Neighborhood'])\n",
    "num_col = len(c)\n",
    "baseline = max(c.values()) / sum(c.values())\n",
    "print(c)\n",
    "print(\"Number of Neighborhood types: \" + str(num_col))\n",
    "print(\"Baseline accuracy: \" + str(baseline))"
   ]
  },
  {
   "cell_type": "code",
   "execution_count": 4,
   "metadata": {
    "collapsed": true
   },
   "outputs": [],
   "source": [
    "# Encode the dataset with labels\n",
    "enc = LabelEncoder()\n",
    "\n",
    "for i in data.columns:\n",
    "    data[i] = enc.fit_transform(data[i])"
   ]
  },
  {
   "cell_type": "code",
   "execution_count": 5,
   "metadata": {},
   "outputs": [
    {
     "name": "stdout",
     "output_type": "stream",
     "text": [
      "      MSSubClass  MSZoning  LotFrontage  LotArea  Street  Alley  LotShape  \\\n",
      "Id                                                                          \n",
      "1              5         3           37      327       1      1         3   \n",
      "2              0         3           52      498       1      1         3   \n",
      "3              5         3           40      700       1      1         0   \n",
      "4              6         3           32      489       1      1         0   \n",
      "5              5         3           56      922       1      1         0   \n",
      "6              4         3           57      912       1      1         0   \n",
      "7              0         3           47      551       1      1         3   \n",
      "8              5         3            0      592       1      1         0   \n",
      "9              4         4           23      138       1      1         3   \n",
      "10            14         3           22      222       1      1         3   \n",
      "11             0         3           42      689       1      1         3   \n",
      "12             5         3           57      767       1      1         0   \n",
      "13             0         3            0      851       1      1         1   \n",
      "14             0         3           63      629       1      1         0   \n",
      "15             0         3            0      659       1      1         0   \n",
      "16             3         4           23      138       1      1         3   \n",
      "17             0         3            0      697       1      1         0   \n",
      "18            10         3           44      647       1      1         3   \n",
      "19             0         3           38      895       1      1         3   \n",
      "20             0         3           42      231       1      1         3   \n",
      "21             5         3           73      919       1      1         0   \n",
      "22             3         4           29      225       1      0         3   \n",
      "23             0         3           47      507       1      1         3   \n",
      "24            11         4           16       70       1      1         3   \n",
      "25             0         3            0      306       1      1         0   \n",
      "26             0         3           82      921       1      1         3   \n",
      "27             0         3           32      202       1      1         3   \n",
      "28             0         3           70      729       1      1         3   \n",
      "29             0         3           19      978       1      1         0   \n",
      "30             1         4           32      150       1      1         0   \n",
      "...          ...       ...          ...      ...     ...    ...       ...   \n",
      "1431           5         3           32     1031       1      1         2   \n",
      "1432          11         3            0       94       1      1         0   \n",
      "1433           1         3           32      649       1      0         3   \n",
      "1434           5         3           65      578       1      1         0   \n",
      "1435           0         3           52      997       1      1         3   \n",
      "1436           0         3           52      320       1      1         3   \n",
      "1437           0         3           32      409       1      1         3   \n",
      "1438           0         3           68      820       1      1         3   \n",
      "1439           0         4           62      220       1      1         3   \n",
      "1440           5         3           52      734       1      1         3   \n",
      "1441           6         3           51      732       1      1         0   \n",
      "1442          11         4            0       80       1      1         3   \n",
      "1443           5         1           57      669       1      1         3   \n",
      "1444           1         3            0      386       1      1         3   \n",
      "1445           0         3           35      337       1      1         3   \n",
      "1446           9         3           42      320       1      1         3   \n",
      "1447           0         3            0     1043       1      1         0   \n",
      "1448           5         3           52      540       1      1         3   \n",
      "1449           4         3           42      749       1      1         3   \n",
      "1450          13         4            1        4       1      1         3   \n",
      "1451          10         3           32      409       1      1         3   \n",
      "1452           0         3           50      449       1      1         3   \n",
      "1453          13         4            7       52       1      1         3   \n",
      "1454           0         3           62      996       1      1         3   \n",
      "1455           0         1           34      227       1      2         3   \n",
      "1456           5         3           34      267       1      1         3   \n",
      "1457           0         3           57      864       1      1         3   \n",
      "1458           6         3           38      415       1      1         3   \n",
      "1459           0         3           40      505       1      1         3   \n",
      "1460           0         3           47      531       1      1         3   \n",
      "\n",
      "      LandContour  Utilities  LotConfig    ...      PoolArea  PoolQC  Fence  \\\n",
      "Id                                         ...                                \n",
      "1               3          0          4    ...             0       3      4   \n",
      "2               3          0          2    ...             0       3      4   \n",
      "3               3          0          4    ...             0       3      4   \n",
      "4               3          0          0    ...             0       3      4   \n",
      "5               3          0          2    ...             0       3      4   \n",
      "6               3          0          4    ...             0       3      2   \n",
      "7               3          0          4    ...             0       3      4   \n",
      "8               3          0          0    ...             0       3      4   \n",
      "9               3          0          4    ...             0       3      4   \n",
      "10              3          0          0    ...             0       3      4   \n",
      "11              3          0          4    ...             0       3      4   \n",
      "12              3          0          4    ...             0       3      4   \n",
      "13              3          0          4    ...             0       3      4   \n",
      "14              3          0          4    ...             0       3      4   \n",
      "15              3          0          0    ...             0       3      1   \n",
      "16              3          0          0    ...             0       3      0   \n",
      "17              3          0          1    ...             0       3      4   \n",
      "18              3          0          4    ...             0       3      4   \n",
      "19              3          0          4    ...             0       3      4   \n",
      "20              3          0          4    ...             0       3      2   \n",
      "21              3          0          0    ...             0       3      4   \n",
      "22              0          0          4    ...             0       3      0   \n",
      "23              3          0          4    ...             0       3      4   \n",
      "24              3          0          4    ...             0       3      4   \n",
      "25              3          0          4    ...             0       3      2   \n",
      "26              3          0          0    ...             0       3      4   \n",
      "27              3          0          0    ...             0       3      4   \n",
      "28              3          0          4    ...             0       3      4   \n",
      "29              3          0          1    ...             0       3      4   \n",
      "30              3          0          4    ...             0       3      4   \n",
      "...           ...        ...        ...    ...           ...     ...    ...   \n",
      "1431            3          0          4    ...             0       3      4   \n",
      "1432            3          0          4    ...             0       3      4   \n",
      "1433            3          0          4    ...             0       3      4   \n",
      "1434            3          0          4    ...             0       3      4   \n",
      "1435            2          0          4    ...             0       3      4   \n",
      "1436            3          0          4    ...             0       3      0   \n",
      "1437            3          0          2    ...             0       3      1   \n",
      "1438            3          0          2    ...             0       3      4   \n",
      "1439            3          0          4    ...             0       3      2   \n",
      "1440            3          0          4    ...             0       3      4   \n",
      "1441            0          0          4    ...             0       3      4   \n",
      "1442            3          0          4    ...             0       3      4   \n",
      "1443            3          0          4    ...             0       3      4   \n",
      "1444            3          0          4    ...             0       3      4   \n",
      "1445            3          0          2    ...             0       3      4   \n",
      "1446            3          0          4    ...             0       3      4   \n",
      "1447            3          0          1    ...             0       3      4   \n",
      "1448            3          0          4    ...             0       3      4   \n",
      "1449            3          0          4    ...             0       3      1   \n",
      "1450            3          0          4    ...             0       3      4   \n",
      "1451            3          0          2    ...             0       3      4   \n",
      "1452            3          0          4    ...             0       3      4   \n",
      "1453            3          0          4    ...             0       3      4   \n",
      "1454            3          0          4    ...             0       3      4   \n",
      "1455            3          0          4    ...             0       3      4   \n",
      "1456            3          0          4    ...             0       3      4   \n",
      "1457            3          0          4    ...             0       3      2   \n",
      "1458            3          0          4    ...             0       3      0   \n",
      "1459            3          0          4    ...             0       3      4   \n",
      "1460            3          0          4    ...             0       3      4   \n",
      "\n",
      "      MiscFeature  MiscVal  MoSold  YrSold  SaleType  SaleCondition  SalePrice  \n",
      "Id                                                                              \n",
      "1               1        0       1       2         8              4        412  \n",
      "2               1        0       4       1         8              4        339  \n",
      "3               1        0       8       2         8              4        442  \n",
      "4               1        0       1       0         8              0        194  \n",
      "5               1        0      11       2         8              4        494  \n",
      "6               3       10       9       3         8              4        203  \n",
      "7               1        0       7       1         8              4        573  \n",
      "8               3        2      10       3         8              4        390  \n",
      "9               1        0       3       2         8              0        151  \n",
      "10              1        0       0       2         8              4        113  \n",
      "11              1        0       1       2         8              4        150  \n",
      "12              1        0       6       0         6              5        607  \n",
      "13              1        0       8       2         8              4        208  \n",
      "14              1        0       7       1         6              5        547  \n",
      "15              1        0       4       2         8              4        254  \n",
      "16              1        0       6       1         8              4        158  \n",
      "17              3       10       2       4         8              4        225  \n",
      "18              3        6       9       0         8              4         48  \n",
      "19              1        0       5       2         8              4        260  \n",
      "20              1        0       4       3         0              0        188  \n",
      "21              1        0      10       0         6              5        593  \n",
      "22              1        0       5       1         8              4        189  \n",
      "23              1        0       8       2         8              4        457  \n",
      "24              1        0       5       1         8              4        151  \n",
      "25              1        0       4       4         8              4        244  \n",
      "26              1        0       6       3         8              4        507  \n",
      "27              1        0       4       4         8              4        169  \n",
      "28              1        0       4       4         8              4        572  \n",
      "29              1        0      11       0         8              4        410  \n",
      "30              1        0       4       2         8              4         17  \n",
      "...           ...      ...     ...     ...       ...            ...        ...  \n",
      "1431            1        0       6       0         8              4        371  \n",
      "1432            1        0       9       3         8              4        206  \n",
      "1433            1        0       7       1         8              4         13  \n",
      "1434            1        0       4       2         8              4        357  \n",
      "1435            1        0       4       0         8              4        265  \n",
      "1436            1        0       6       2         0              0        311  \n",
      "1437            1        0       4       1         8              4        124  \n",
      "1438            1        0      10       2         6              5        632  \n",
      "1439            1        0       3       4         8              4        229  \n",
      "1440            1        0      10       1         8              4        384  \n",
      "1441            1        0       8       2         8              4        369  \n",
      "1442            1        0       4       2         8              4        226  \n",
      "1443            1        0       3       3         8              4        575  \n",
      "1444            1        0       4       3         8              4        125  \n",
      "1445            1        0      10       1         8              4        332  \n",
      "1446            1        0       4       1         8              4        149  \n",
      "1447            1        0       3       4         8              4        256  \n",
      "1448            1        0      11       1         8              4        478  \n",
      "1449            1        0       4       1         8              4        101  \n",
      "1450            1        0       7       0         8              0         53  \n",
      "1451            1        0       8       3         8              4        176  \n",
      "1452            1        0       4       3         6              5        557  \n",
      "1453            1        0       4       0         8              4        212  \n",
      "1454            1        0       6       0         8              0         36  \n",
      "1455            1        0       9       3         8              4        351  \n",
      "1456            1        0       7       1         8              4        314  \n",
      "1457            1        0       1       4         8              4        415  \n",
      "1458            3       17       4       4         8              4        527  \n",
      "1459            1        0       3       4         8              4        199  \n",
      "1460            1        0       5       2         8              4        221  \n",
      "\n",
      "[1457 rows x 79 columns]\n"
     ]
    }
   ],
   "source": [
    "# Store target variable (Neighborhood) as y\n",
    "y = data['Neighborhood']\n",
    "\n",
    "# Limit the feature set to intuitively relevant features \n",
    "# Houses in the same neighborhood were likely built in the same period, have similar prices, \n",
    "# are within the same zone, etc\n",
    "#relevant = ['MSSubClass', 'YearBuilt', 'LotArea', 'MSZoning', 'LotFrontage', 'LotArea', 'Street' 'Sale', 'BldgType']\n",
    "#X = data.filter(relevant)\n",
    "#X = data.drop(['Neighborhood', 'Utilities', 'LandSlope', 'Condition1', 'Condition2'], axis=1)\n",
    "X = data.drop('Neighborhood', axis=1)\n",
    "print(X)"
   ]
  },
  {
   "cell_type": "code",
   "execution_count": 6,
   "metadata": {
    "collapsed": true
   },
   "outputs": [],
   "source": [
    "splits = [0.1, 0.2, 0.3, 0.4, 0.5]\n",
    "random_states = [42, 1337, 420, 90210, 24]"
   ]
  },
  {
   "cell_type": "code",
   "execution_count": 7,
   "metadata": {
    "collapsed": true
   },
   "outputs": [],
   "source": [
    "def create_and_test_decision_tree(dataset, target, test_size, seed):\n",
    "    X_train, X_test, y_train, y_test = train_test_split(dataset, target, test_size = test_size, random_state=seed)\n",
    "    model = DecisionTreeClassifier(max_leaf_nodes=100)\n",
    "    model = model.fit(X=X_train, y=y_train)\n",
    "    with open(\"decisiontree.txt\", 'w') as f:\n",
    "        export_graphviz(model, out_file=f, feature_names=list(X))\n",
    "    tree_pred = model.predict(X_test)\n",
    "    score = accuracy_score(y_true = y_test, y_pred = tree_pred)\n",
    "    percent_imprv = 100 * (score - baseline) / baseline \n",
    "    return model, score, percent_imprv"
   ]
  },
  {
   "cell_type": "code",
   "execution_count": 8,
   "metadata": {},
   "outputs": [
    {
     "ename": "NameError",
     "evalue": "name 'prices' is not defined",
     "output_type": "error",
     "traceback": [
      "\u001b[0;31m---------------------------------------------------------------------------\u001b[0m",
      "\u001b[0;31mNameError\u001b[0m                                 Traceback (most recent call last)",
      "\u001b[0;32m<ipython-input-8-b5cb9ee02a0f>\u001b[0m in \u001b[0;36m<module>\u001b[0;34m()\u001b[0m\n\u001b[1;32m      3\u001b[0m     \u001b[0mtest_size\u001b[0m \u001b[0;34m=\u001b[0m \u001b[0msplits\u001b[0m\u001b[0;34m[\u001b[0m\u001b[0mi\u001b[0m\u001b[0;34m]\u001b[0m\u001b[0;34m\u001b[0m\u001b[0m\n\u001b[1;32m      4\u001b[0m     \u001b[0mseed\u001b[0m \u001b[0;34m=\u001b[0m \u001b[0mrandom_states\u001b[0m\u001b[0;34m[\u001b[0m\u001b[0mi\u001b[0m\u001b[0;34m]\u001b[0m\u001b[0;34m\u001b[0m\u001b[0m\n\u001b[0;32m----> 5\u001b[0;31m     \u001b[0mmodel\u001b[0m\u001b[0;34m,\u001b[0m \u001b[0mscore\u001b[0m\u001b[0;34m,\u001b[0m \u001b[0mimprv\u001b[0m \u001b[0;34m=\u001b[0m \u001b[0mcreate_and_test_decision_tree\u001b[0m\u001b[0;34m(\u001b[0m\u001b[0mX\u001b[0m\u001b[0;34m,\u001b[0m \u001b[0mprices\u001b[0m\u001b[0;34m,\u001b[0m \u001b[0mtest_size\u001b[0m\u001b[0;34m,\u001b[0m \u001b[0mseed\u001b[0m\u001b[0;34m)\u001b[0m\u001b[0;34m\u001b[0m\u001b[0m\n\u001b[0m\u001b[1;32m      6\u001b[0m     print(\"The decision tree for the train-test-split of {}-{} has an accuracy score of:\\n{}\"\n\u001b[1;32m      7\u001b[0m           .format(1-test_size, test_size, score))\n",
      "\u001b[0;31mNameError\u001b[0m: name 'prices' is not defined"
     ]
    }
   ],
   "source": [
    "# Create and test Decision Tree Classifierfor 5 different train_test splits\n",
    "for i in range(5):\n",
    "    test_size = splits[i]\n",
    "    seed = random_states[i]\n",
    "    model, score, imprv = create_and_test_decision_tree(X, y, test_size, seed)\n",
    "    print(\"The decision tree for the train-test-split of {}-{} has an accuracy score of:\\n{}\"\n",
    "          .format(1-test_size, test_size, score))\n",
    "    print(\"Thus, this model is {:.2f}% more accurate than the baseline model\".format(imprv))\n",
    "    print(\"\\n\")"
   ]
  },
  {
   "cell_type": "markdown",
   "metadata": {},
   "source": [
    "# SVM Model"
   ]
  },
  {
   "cell_type": "code",
   "execution_count": 9,
   "metadata": {
    "collapsed": true
   },
   "outputs": [],
   "source": [
    "# Store the target variable (HouseStyle) as Y\n",
    "Y = data['HouseStyle']"
   ]
  },
  {
   "cell_type": "code",
   "execution_count": 10,
   "metadata": {},
   "outputs": [
    {
     "name": "stdout",
     "output_type": "stream",
     "text": [
      "SVM baseline value: 0.497597803706\n"
     ]
    }
   ],
   "source": [
    "# Calculate the baseline for SVM\n",
    "SVM_baseline = max(Y.value_counts())/len(Y)\n",
    "print('SVM baseline value:', SVM_baseline)"
   ]
  },
  {
   "cell_type": "code",
   "execution_count": 11,
   "metadata": {},
   "outputs": [
    {
     "name": "stdout",
     "output_type": "stream",
     "text": [
      "MSSubClass: 0.445623148876\n",
      "2ndFlrSF: 0.510942821246\n",
      "HalfBath: 0.413121689392\n"
     ]
    }
   ],
   "source": [
    "# Perform feature engineering to determine features to include\n",
    "X = pd.DataFrame()\n",
    "\n",
    "# Assign features with strong correlation to target variable to feature set X \n",
    "# Correlation cutoff arbitrarily set to .4\n",
    "for column in data.columns.values:\n",
    "    if (data[column].corr(data['HouseStyle']) > .4 and column != 'HouseStyle'):\n",
    "        print(column + ':', data[column].corr(data['HouseStyle']))\n",
    "        X[column] = data[column]"
   ]
  },
  {
   "cell_type": "code",
   "execution_count": 14,
   "metadata": {
    "collapsed": true
   },
   "outputs": [],
   "source": [
    "# Implement SVM model with linear kernel\n",
    "# model = svm.SVC(kernel='linear', gamma=1)\n",
    "\n",
    "# Implement SVM model with default settings (RBF kerenel) \n",
    "model = svm.SVC()"
   ]
  },
  {
   "cell_type": "code",
   "execution_count": 15,
   "metadata": {},
   "outputs": [
    {
     "name": "stdout",
     "output_type": "stream",
     "text": [
      "The SVM for a train-test-split of 0.9-0.1 has an accuracy score of:\n",
      "0.9247\n",
      "Thus, this model is 85.82% more accurate than the baseline model.\n",
      "\n",
      "\n",
      "The SVM for a train-test-split of 0.8-0.2 has an accuracy score of:\n",
      "0.9281\n",
      "Thus, this model is 86.51% more accurate than the baseline model.\n",
      "\n",
      "\n",
      "The SVM for a train-test-split of 0.7-0.3 has an accuracy score of:\n",
      "0.9087\n",
      "Thus, this model is 82.61% more accurate than the baseline model.\n",
      "\n",
      "\n",
      "The SVM for a train-test-split of 0.6-0.4 has an accuracy score of:\n",
      "0.9057\n",
      "Thus, this model is 82.01% more accurate than the baseline model.\n",
      "\n",
      "\n",
      "The SVM for a train-test-split of 0.5-0.5 has an accuracy score of:\n",
      "0.8930\n",
      "Thus, this model is 79.46% more accurate than the baseline model.\n",
      "\n",
      "\n"
     ]
    }
   ],
   "source": [
    "# Define training/test splits and random states to generate them\n",
    "splits = [0.1, 0.2, 0.3, 0.4, 0.5]\n",
    "random_states = [42, 1337, 420, 90210, 24]\n",
    "\n",
    "for i in range(0,5):\n",
    "    # Split dataset into training and test data\n",
    "    X_train, X_test, Y_train, Y_test = train_test_split(X, Y, test_size=splits[i], random_state=random_states[i])\n",
    "    # Fit the model to the training data\n",
    "    model.fit(X_train, Y_train)\n",
    "    # Predict on the testing data\n",
    "    model.predict(X_test)\n",
    "    # Test the score of the model\n",
    "    score = model.score(X_test, Y_test)\n",
    "    # Calculate % improvement over the baseline\n",
    "    improvement = 100*(score - SVM_baseline)/SVM_baseline\n",
    "    print(\"The SVM for a train-test-split of {}-{} has an accuracy score of:\\n{:.4f}\"\n",
    "          .format(1-splits[i], splits[i], score))\n",
    "    print(\"Thus, this model is {:.2f}% more accurate than the baseline model.\"\n",
    "          .format(improvement))\n",
    "    print(\"\\n\")"
   ]
  },
  {
   "cell_type": "markdown",
   "metadata": {},
   "source": [
    "For our SVM model, we identified potential feature columns that correlated well with the target variable, HouseStyle. Correlation thresholds of .2 (10 features) and .4 (3 features) were tried. The model performed very poorly with a correlation threshold of 0.2 (about -2% to 10% improvement over the baseline), while acceptable results were generated using a threshold of 0.4. Additionally, both linear and RBF kernels were tried for the SVM model. Results improve from about 69% to 76% improvement using a linear kernel to about 89% to 92% improvement using an RBF kernel. "
   ]
  }
 ],
 "metadata": {
  "kernelspec": {
   "display_name": "Python 3",
   "language": "python",
   "name": "python3"
  },
  "language_info": {
   "codemirror_mode": {
    "name": "ipython",
    "version": 3
   },
   "file_extension": ".py",
   "mimetype": "text/x-python",
   "name": "python",
   "nbconvert_exporter": "python",
   "pygments_lexer": "ipython3",
   "version": "3.6.1"
  }
 },
 "nbformat": 4,
 "nbformat_minor": 2
}
