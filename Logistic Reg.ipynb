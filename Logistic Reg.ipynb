{
 "cells": [
  {
   "cell_type": "code",
   "execution_count": 20,
   "metadata": {
    "collapsed": true
   },
   "outputs": [],
   "source": [
    "# import necessary packages\n",
    "import pandas as pd\n",
    "from sklearn.metrics import accuracy_score\n",
    "from sklearn.model_selection import train_test_split\n",
    "from sklearn.preprocessing import LabelEncoder\n",
    "from sklearn.linear_model import LogisticRegression\n",
    "import numpy as np\n",
    "from collections import Counter\n",
    "import seaborn as sns\n",
    "import numpy as np\n",
    "import sklearn\n",
    "import pandas as pd\n",
    "import matplotlib.pyplot as plt\n",
    "from sklearn import datasets, preprocessing, svm\n",
    "from sklearn.metrics import accuracy_score\n",
    "from sklearn.linear_model import LogisticRegression\n",
    "from sklearn.model_selection import train_test_split\n",
    "from sklearn.preprocessing import LabelEncoder\n",
    "from sklearn.tree import DecisionTreeClassifier\n",
    "from sklearn.tree import export_graphviz\n",
    "from collections import Counter\n",
    "import random"
   ]
  },
  {
   "cell_type": "code",
   "execution_count": 21,
   "metadata": {},
   "outputs": [],
   "source": [
    "#import cleaned dataset from last project\n",
    "data = pd.DataFrame.from_csv('cleaned.csv')\n",
    "\n",
    "BsmtQual = data['BsmtQual']\n",
    "encodings = {'Ex': 6, 'Gd': 5, 'TA': 4, 'Fa': 3, 'Po': 2, 'NP' :1}\n",
    "for key in encodings:\n",
    "    BsmtQual = BsmtQual.replace(key, encodings[key])\n",
    "data['BsmtQual'] = BsmtQual\n",
    "    \n",
    "ExterQual = data['ExterQual']\n",
    "encodings = {'Ex': 6, 'Gd': 5, 'TA': 4, 'Fa': 3, 'Po': 2, 'NP' :1}\n",
    "for key in encodings:\n",
    "    ExterQual = ExterQual.replace(key, encodings[key])\n",
    "data['ExterQual'] = ExterQual\n",
    "    \n",
    "ExterCond = data['ExterCond']\n",
    "encodings = {'Ex': 6, 'Gd': 5, 'TA': 4, 'Fa': 3, 'Po': 2, 'NP' :1}\n",
    "for key in encodings:\n",
    "    ExterCond = ExterCond.replace(key, encodings[key])\n",
    "data['ExterCond'] = ExterCond\n",
    "    \n",
    "BsmtCond = data['BsmtCond']\n",
    "encodings = {'Ex': 6, 'Gd': 5, 'TA': 4, 'Fa': 3, 'Po': 2, 'NP' :1}\n",
    "for key in encodings:\n",
    "    BsmtCond = BsmtCond.replace(key, encodings[key])\n",
    "data['BsmtCond'] = BsmtCond\n",
    "    \n",
    "KitchenQual = data['KitchenQual']\n",
    "encodings = {'Ex': 6, 'Gd': 5, 'TA': 4, 'Fa': 3, 'Po': 2, 'NP' :1}\n",
    "for key in encodings:\n",
    "    KitchenQual = KitchenQual.replace(key, encodings[key])\n",
    "data['KitchenQual'] = KitchenQual\n",
    "    \n",
    "GarageQual = data['GarageQual']\n",
    "encodings = {'Ex': 6, 'Gd': 5, 'TA': 4, 'Fa': 3, 'Po': 2, 'NP' :1}\n",
    "for key in encodings:\n",
    "    GarageQual = GarageQual.replace(key, encodings[key])\n",
    "data['GarageQual'] = GarageQual\n",
    "    \n",
    "ls = ['BsmtQual', 'ExterQual', 'BsmtCond', 'ExterCond', 'KitchenQual', 'GarageQual']"
   ]
  },
  {
   "cell_type": "code",
   "execution_count": 22,
   "metadata": {
    "collapsed": true
   },
   "outputs": [],
   "source": [
    "# Add target variable column 'qualAboveAverage' to dataframe \n",
    "# Specifies if house quality is above agerage (1) or below average(0)\n",
    "data['qualAboveAverage'] = (data['OverallQual'] > 5).astype(int)\n",
    "# Store target variable (qualAboveAverage) as y\n",
    "Y = data['qualAboveAverage']\n",
    "X = pd.DataFrame()\n",
    "columns = data.columns \n",
    "columns_dtypes = data.dtypes\n",
    "numerical_types = [np.int64, np.int32, np.float32, np.float64]\n",
    "valid_col = [columns[i] for i in range(len(columns)) if columns_dtypes[i] in numerical_types]\n",
    "valid_col.remove('qualAboveAverage')\n",
    "valid_col.remove('OverallQual')\n",
    "valid_data = pd.DataFrame(data, columns = valid_col)\n",
    "\n",
    "enc = LabelEncoder()\n",
    "for i in valid_data.columns:\n",
    "    valid_data[i] = enc.fit_transform(valid_data[i])"
   ]
  },
  {
   "cell_type": "code",
   "execution_count": 23,
   "metadata": {
    "scrolled": true
   },
   "outputs": [
    {
     "name": "stdout",
     "output_type": "stream",
     "text": [
      "YearBuilt: 0.493020979675\n",
      "YearRemodAdd: 0.437861757046\n",
      "ExterQual: 0.506235761975\n",
      "BsmtQual: 0.521354932126\n",
      "GrLivArea: 0.490761427974\n",
      "FullBath: 0.487962875878\n",
      "KitchenQual: 0.46337623216\n",
      "GarageCars: 0.469083851474\n",
      "SalePrice: 0.636310119244\n"
     ]
    }
   ],
   "source": [
    "\"\"\"\n",
    "for column in valid_data.columns.values:\n",
    "    corr = abs(valid_data[column].corr(Y))\n",
    "    if corr > .4:\n",
    "        print(column + ':', corr)\n",
    "        X[column] = valid_data[column]\n",
    "\"\"\"\n",
    "X = valid_data.filter(['YearBuilt', 'YearRemodAdd', 'BsmtQual', 'TotalBsmtSF', 'GrLivArea',\n",
    "       'FullBath', 'KitchenQual', 'GarageCars', 'GarageArea', 'SalePrice',\n",
    "       'OverallQual', 'ExterQual', 'BsmtCond', 'BsmtUnfSF', '1stFlrSF',\n",
    "       '2ndFlrSF', 'HalfBath', 'TotRmsAbvGrd', 'Fireplaces', 'GarageQual',\n",
    "       'OpenPorchSF', 'MSSubClass', 'BsmtFinSF1', 'KitchenAbvGr', 'WoodDeckSF',\n",
    "       'Foundation', 'HeatingQC', 'GarageYrBlt'])"
   ]
  },
  {
   "cell_type": "code",
   "execution_count": 24,
   "metadata": {},
   "outputs": [
    {
     "name": "stdout",
     "output_type": "stream",
     "text": [
      "Logistic Regression Baseline Value: 0.631434454358\n"
     ]
    }
   ],
   "source": [
    "# Calculate the baseline for Logistic Regression model\n",
    "logit_baseline = max(Y.value_counts())/len(Y)\n",
    "print('Logistic Regression Baseline Value:', logit_baseline)"
   ]
  },
  {
   "cell_type": "code",
   "execution_count": 25,
   "metadata": {
    "collapsed": true
   },
   "outputs": [],
   "source": [
    "splits = [0.1, 0.2, 0.3, 0.4, 0.5]\n",
    "random_states = [98, 1560, 999, 105002, 77393]"
   ]
  },
  {
   "cell_type": "code",
   "execution_count": 26,
   "metadata": {},
   "outputs": [
    {
     "name": "stdout",
     "output_type": "stream",
     "text": [
      "Index(['YearBuilt', 'YearRemodAdd', 'ExterQual', 'BsmtQual', 'GrLivArea',\n",
      "       'FullBath', 'KitchenQual', 'GarageCars', 'SalePrice'],\n",
      "      dtype='object')\n",
      "The Logistic Regression for a train-test-split of 0.9-0.1 has an accuracy score of:\n",
      "0.8630\n",
      "Thus, this model is 36.68% more accurate than the baseline model.\n",
      "\n",
      "\n",
      "The Logistic Regression for a train-test-split of 0.8-0.2 has an accuracy score of:\n",
      "0.8185\n",
      "Thus, this model is 29.62% more accurate than the baseline model.\n",
      "\n",
      "\n",
      "The Logistic Regression for a train-test-split of 0.7-0.3 has an accuracy score of:\n",
      "0.8128\n",
      "Thus, this model is 28.72% more accurate than the baseline model.\n",
      "\n",
      "\n",
      "The Logistic Regression for a train-test-split of 0.6-0.4 has an accuracy score of:\n",
      "0.8456\n",
      "Thus, this model is 33.92% more accurate than the baseline model.\n",
      "\n",
      "\n",
      "The Logistic Regression for a train-test-split of 0.5-0.5 has an accuracy score of:\n",
      "0.8313\n",
      "Thus, this model is 31.65% more accurate than the baseline model.\n",
      "\n",
      "\n"
     ]
    }
   ],
   "source": [
    "# build model and fit on train set\n",
    "model = LogisticRegression()\n",
    "print(X.columns)\n",
    "\n",
    "for i in range(0,5):\n",
    "    X_train, X_test, Y_train, Y_test = train_test_split(X, Y, test_size=splits[i], random_state=random_states[i])\n",
    "    model.fit(X_train, Y_train)\n",
    "    score = model.score(X_test, Y_test)\n",
    "    improvement = 100*(score - logit_baseline)/logit_baseline\n",
    "    print(\"The Logistic Regression for a train-test-split of {}-{} has an accuracy score of:\\n{:.4f}\"\n",
    "          .format(1-splits[i], splits[i], score))\n",
    "    print(\"Thus, this model is {:.2f}% more accurate than the baseline model.\"\n",
    "          .format(improvement))\n",
    "    print(\"\\n\")"
   ]
  }
 ],
 "metadata": {
  "kernelspec": {
   "display_name": "Python 3",
   "language": "python",
   "name": "python3"
  },
  "language_info": {
   "codemirror_mode": {
    "name": "ipython",
    "version": 3
   },
   "file_extension": ".py",
   "mimetype": "text/x-python",
   "name": "python",
   "nbconvert_exporter": "python",
   "pygments_lexer": "ipython3",
   "version": "3.6.1"
  }
 },
 "nbformat": 4,
 "nbformat_minor": 2
}
