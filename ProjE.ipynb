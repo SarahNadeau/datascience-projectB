{
 "cells": [
  {
   "cell_type": "code",
   "execution_count": 103,
   "metadata": {
    "collapsed": true
   },
   "outputs": [],
   "source": [
    "import numpy as np\n",
    "import pandas as pd\n",
    "from matplotlib import pyplot as plt\n",
    "from sklearn.model_selection import train_test_split\n",
    "from sklearn.model_selection import KFold\n",
    "from sklearn.preprocessing import LabelEncoder"
   ]
  },
  {
   "cell_type": "code",
   "execution_count": 104,
   "metadata": {
    "collapsed": true
   },
   "outputs": [],
   "source": [
    "# import cleaned dataset from last project - https://github.com/SarahNadeau/datascience-projectB/blob/master/cleaned.csv\n",
    "data = pd.DataFrame.from_csv('cleaned.csv')\n",
    "encoded_data = pd.DataFrame.from_csv('cleaned.csv')\n",
    "\n",
    "# create meaningful encodings for ordinal data\n",
    "BsmtQual = data['BsmtQual']\n",
    "encodings = {'Ex': 6, 'Gd': 5, 'TA': 4, 'Fa': 3, 'Po': 2, 'NP' :1}\n",
    "for key in encodings:\n",
    "    BsmtQual = BsmtQual.replace(key, encodings[key])\n",
    "data['BsmtQual'] = BsmtQual\n",
    "\n",
    "ExterQual = data['ExterQual']\n",
    "encodings = {'Ex': 6, 'Gd': 5, 'TA': 4, 'Fa': 3, 'Po': 2, 'NP' :1}\n",
    "for key in encodings:\n",
    "    ExterQual = ExterQual.replace(key, encodings[key])\n",
    "data['ExterQual'] = ExterQual\n",
    "    \n",
    "ExterCond = data['ExterCond']\n",
    "encodings = {'Ex': 6, 'Gd': 5, 'TA': 4, 'Fa': 3, 'Po': 2, 'NP' :1}\n",
    "for key in encodings:\n",
    "    ExterCond = ExterCond.replace(key, encodings[key])\n",
    "data['ExterCond'] = ExterCond\n",
    "    \n",
    "BsmtCond = data['BsmtCond']\n",
    "encodings = {'Ex': 6, 'Gd': 5, 'TA': 4, 'Fa': 3, 'Po': 2, 'NP' :1}\n",
    "for key in encodings:\n",
    "    BsmtCond = BsmtCond.replace(key, encodings[key])\n",
    "data['BsmtCond'] = BsmtCond\n",
    "    \n",
    "KitchenQual = data['KitchenQual']\n",
    "encodings = {'Ex': 6, 'Gd': 5, 'TA': 4, 'Fa': 3, 'Po': 2, 'NP' :1}\n",
    "for key in encodings:\n",
    "    KitchenQual = KitchenQual.replace(key, encodings[key])\n",
    "data['KitchenQual'] = KitchenQual\n",
    "    \n",
    "GarageQual = data['GarageQual']\n",
    "encodings = {'Ex': 6, 'Gd': 5, 'TA': 4, 'Fa': 3, 'Po': 2, 'NP' :1}\n",
    "for key in encodings:\n",
    "    GarageQual = GarageQual.replace(key, encodings[key])\n",
    "data['GarageQual'] = GarageQual\n",
    "\n",
    "FireplaceQu = data['FireplaceQu']\n",
    "encodings = {'Ex': 6, 'Gd': 5, 'TA': 4, 'Fa': 3, 'Po': 2, 'NP' :1}\n",
    "for key in encodings:\n",
    "    FireplaceQu = FireplaceQu.replace(key, encodings[key])\n",
    "data['FireplaceQu'] = FireplaceQu\n",
    "\n",
    "LandSlope = data['LandSlope']\n",
    "encodings = {'Gtl': 1, 'Mod': 2, 'Sev': 3}\n",
    "for key in encodings:\n",
    "    LandSlope = LandSlope.replace(key, encodings[key])\n",
    "data['LandSlope'] = LandSlope\n",
    "\n",
    "HeatingQC = data['HeatingQC']\n",
    "encodings = {'Ex': 6, 'Gd': 5, 'TA': 4, 'Fa': 3, 'Po': 2, 'NP' :1}\n",
    "for key in encodings:\n",
    "    HeatingQC = HeatingQC.replace(key, encodings[key])\n",
    "data['HeatingQC'] = HeatingQC\n",
    "\n",
    "BsmtExposure = data['BsmtExposure']\n",
    "encodings = {'Gd': 6, 'Av': 5, 'Mn': 4, 'No': 3, 'NA': 2, 'NP': 1}\n",
    "for key in encodings:\n",
    "    BsmtExposure = BsmtExposure.replace(key, encodings[key])\n",
    "data['BsmtExposure'] = BsmtExposure\n",
    "\n",
    "GarageCond = data['GarageCond']\n",
    "encodings = {'Ex': 6, 'Gd': 5, 'TA': 4, 'Fa': 3, 'Po': 2, 'NP' :1}\n",
    "for key in encodings:\n",
    "    GarageCond = GarageCond.replace(key, encodings[key])\n",
    "data['GarageCond'] = GarageCond\n",
    "\n",
    "PoolQC = data['PoolQC']\n",
    "encodings = {'Ex': 4, 'Gd': 3, 'Fa': 2, 'NP' :1}\n",
    "for key in encodings:\n",
    "    PoolQC = PoolQC.replace(key, encodings[key])\n",
    "data['PoolQC'] = PoolQC\n",
    "\n",
    "# use label encoder for nominal data columns\n",
    "enc = LabelEncoder()\n",
    "for col in data.columns:\n",
    "    if data[col].dtype != 'float64' and data[col].dtype != 'int64': \n",
    "        encoded_data[col] = enc.fit_transform(encoded_data[col])\n",
    "    else:\n",
    "        encoded_data[col] = data[col]"
   ]
  },
  {
   "cell_type": "code",
   "execution_count": 105,
   "metadata": {
    "collapsed": true
   },
   "outputs": [],
   "source": [
    "# make sale price a categorical feature\n",
    "labels = [ \"{0} - {1}\".format(i, i + 100000) for i in range(0, 1000000, 100000) ]\n",
    "encoded_data['Sale_Price_Categories'] = pd.cut(encoded_data.SalePrice, range(0, 1050000, 100000), right=False, labels=labels)"
   ]
  },
  {
   "cell_type": "code",
   "execution_count": 106,
   "metadata": {},
   "outputs": [
    {
     "name": "stdout",
     "output_type": "stream",
     "text": [
      "\n",
      "Below are the columns (and correlation coefficients) that have been deemed significant \n",
      "(absolute coefficient >= 0.0) and will be used in the model:\n",
      "\n",
      "1. MSSubClass: -0.08\n",
      "2. MSZoning: -0.17\n",
      "3. LotFrontage: 0.21\n",
      "4. LotArea: 0.26\n",
      "5. Street: 0.04\n",
      "6. Alley: 0.08\n",
      "7. LotShape: -0.25\n",
      "8. LandContour: 0.02\n",
      "9. Utilities: -0.01\n",
      "10. LotConfig: -0.07\n",
      "11. LandSlope: 0.05\n",
      "12. Neighborhood: 0.21\n",
      "13. Condition1: 0.09\n",
      "14. Condition2: 0.01\n",
      "15. BldgType: -0.09\n",
      "16. HouseStyle: 0.18\n",
      "17. OverallQual: 0.79\n",
      "18. OverallCond: -0.08\n",
      "19. YearBuilt: 0.52\n",
      "20. YearRemodAdd: 0.51\n",
      "21. RoofStyle: 0.22\n",
      "22. RoofMatl: 0.13\n",
      "23. Exterior1st: 0.10\n",
      "24. Exterior2nd: 0.10\n",
      "25. MasVnrType: -0.07\n",
      "26. MasVnrArea: 0.34\n",
      "27. ExterQual: 0.68\n",
      "28. ExterCond: 0.02\n",
      "29. Foundation: 0.38\n",
      "30. BsmtQual: 0.59\n",
      "31. BsmtCond: 0.21\n",
      "32. BsmtExposure: 0.38\n",
      "33. BsmtFinType1: -0.10\n",
      "34. BsmtFinSF1: 0.39\n",
      "35. BsmtFinType2: 0.07\n",
      "36. BsmtFinSF2: -0.01\n",
      "37. BsmtUnfSF: 0.21\n",
      "38. TotalBsmtSF: 0.62\n",
      "39. Heating: -0.10\n",
      "40. HeatingQC: 0.43\n",
      "41. CentralAir: 0.25\n",
      "42. Electrical: 0.23\n",
      "43. 1stFlrSF: 0.61\n",
      "44. 2ndFlrSF: 0.32\n",
      "45. LowQualFinSF: -0.03\n",
      "46. GrLivArea: 0.71\n",
      "47. BsmtFullBath: 0.23\n",
      "48. BsmtHalfBath: -0.02\n",
      "49. FullBath: 0.56\n",
      "50. HalfBath: 0.29\n",
      "51. BedroomAbvGr: 0.17\n",
      "52. KitchenAbvGr: -0.14\n",
      "53. KitchenQual: 0.66\n",
      "54. TotRmsAbvGrd: 0.53\n",
      "55. Functional: 0.12\n",
      "56. Fireplaces: 0.47\n",
      "57. FireplaceQu: 0.52\n",
      "58. GarageType: -0.41\n",
      "59. GarageYrBlt: 0.38\n",
      "60. GarageFinish: -0.43\n",
      "61. GarageCars: 0.64\n",
      "62. GarageArea: 0.62\n",
      "63. GarageQual: 0.27\n",
      "64. GarageCond: 0.26\n",
      "65. PavedDrive: 0.23\n",
      "66. WoodDeckSF: 0.33\n",
      "67. OpenPorchSF: 0.32\n",
      "68. EnclosedPorch: -0.13\n",
      "69. 3SsnPorch: 0.04\n",
      "70. ScreenPorch: 0.11\n",
      "71. PoolArea: 0.09\n",
      "72. PoolQC: 0.12\n",
      "73. Fence: 0.14\n",
      "74. MiscFeature: -0.07\n",
      "75. MiscVal: -0.02\n",
      "76. MoSold: 0.05\n",
      "77. YrSold: -0.03\n",
      "78. SaleType: -0.06\n",
      "79. SaleCondition: 0.21\n"
     ]
    }
   ],
   "source": [
    "# find numerical features with significant correlation to SalePrice\n",
    "columns = encoded_data.columns\n",
    "column_dtypes = encoded_data.dtypes\n",
    "numerical_types = [np.int64, np.int32, np.float32, np.float64]\n",
    "\n",
    "valid_col = [columns[i] for i in range(len(columns)) if column_dtypes[i] in numerical_types]\n",
    "X = pd.DataFrame(encoded_data, columns = valid_col)\n",
    "corr = np.corrcoef(X, rowvar=False)\n",
    "sale_price_corr_coef = corr[-1][:-1]  # get SalePrice corrcoef with everything else\n",
    "\n",
    "significant_col = []  \n",
    "significant_col_values = []\n",
    "sig_threshold = 0.0 # arbitrarily set\n",
    "for i in range(len(sale_price_corr_coef)):\n",
    "    corr_coef = sale_price_corr_coef[i]\n",
    "    if abs(corr_coef) >= sig_threshold:\n",
    "        significant_col.append(valid_col[i])\n",
    "        significant_col_values.append(corr_coef)\n",
    "print(\"\\nBelow are the columns (and correlation coefficients) that have been deemed significant \\n\" + \n",
    "      \"(absolute coefficient >= {}) and will be used in the model:\\n\".format(sig_threshold))\n",
    "for i in range(len(significant_col)):\n",
    "    print(\"{}. {}: {:.2f}\".format(i+1, significant_col[i], significant_col_values[i]))\n",
    "    \n",
    "feature_set = encoded_data.filter(significant_col)\n",
    "feature_set['Sale_Price_Categories'] = encoded_data['Sale_Price_Categories']\n",
    "# feature_set = encoded_data"
   ]
  },
  {
   "cell_type": "code",
   "execution_count": 107,
   "metadata": {},
   "outputs": [],
   "source": [
    "# split into training and testing sets\n",
    "Y = feature_set['Sale_Price_Categories']\n",
    "X_train, X_test, Y_train, Y_test = train_test_split(feature_set, Y, test_size=.1)\n",
    "\n",
    "X_train = X_train.drop('Sale_Price_Categories', 1)\n",
    "X_test = X_test.drop('Sale_Price_Categories', 1)"
   ]
  },
  {
   "cell_type": "code",
   "execution_count": 108,
   "metadata": {},
   "outputs": [
    {
     "name": "stdout",
     "output_type": "stream",
     "text": [
      "% of most frequent category as baseline is: 0.62\n"
     ]
    }
   ],
   "source": [
    "# calculate the baseline for SalePrice\n",
    "baseline = encoded_data.Sale_Price_Categories.describe()['freq']/len(encoded_data.Sale_Price_Categories)\n",
    "print(\"% of most frequent category as baseline is: {:.2f}\".format(baseline))"
   ]
  },
  {
   "cell_type": "code",
   "execution_count": 109,
   "metadata": {
    "collapsed": true
   },
   "outputs": [],
   "source": [
    "# adaboost\n",
    "from sklearn.ensemble import AdaBoostClassifier\n",
    "from sklearn.tree import DecisionTreeClassifier\n",
    "seed = 9001"
   ]
  },
  {
   "cell_type": "code",
   "execution_count": 112,
   "metadata": {},
   "outputs": [
    {
     "data": {
      "image/png": "[encoded data removed]",
      "text/plain": [
       "<matplotlib.figure.Figure at 0x11c046240>"
      ]
     },
     "metadata": {},
     "output_type": "display_data"
    },
    {
     "data": {
      "image/png": "[encoded data removed]",
      "text/plain": [
       "<matplotlib.figure.Figure at 0x11dd52b38>"
      ]
     },
     "metadata": {},
     "output_type": "display_data"
    },
    {
     "name": "stdout",
     "output_type": "stream",
     "text": [
      "26.25% final improvement over the baseline\n"
     ]
    }
   ],
   "source": [
    "# define ensemble hyperparameters\n",
    "max_depth = 5\n",
    "n_estimators = 50\n",
    "\n",
    "boosted_tree = AdaBoostClassifier(DecisionTreeClassifier(max_depth=max_depth), algorithm=\"SAMME\", \n",
    "                                  n_estimators=n_estimators, random_state = seed)\n",
    "model = boosted_tree.fit(X_train, Y_train)\n",
    "\n",
    "# plot improvement for train and test sets for each model\n",
    "test_staged_improvement = []\n",
    "test_staged_error = []\n",
    "for predictions in model.staged_predict(X_test):\n",
    "    successes = 0\n",
    "    for i in range(0, len(predictions)):\n",
    "        if predictions[i] == Y_test.iloc[i]:\n",
    "            successes += 1\n",
    "    error = (len(Y_test) - successes)/len(Y_test)\n",
    "    test_staged_error.append(error)\n",
    "    success_rate = successes/len(Y_test)\n",
    "    improvement = (success_rate - baseline)*100/baseline\n",
    "    test_staged_improvement.append(improvement)\n",
    "\n",
    "train_staged_improvement = []\n",
    "train_staged_error = []\n",
    "for predictions in model.staged_predict(X_train):\n",
    "    successes = 0\n",
    "    for i in range(0, len(predictions)):\n",
    "        if predictions[i] == Y_train.iloc[i]:\n",
    "            successes += 1\n",
    "    error = (len(Y_train) - successes)/len(Y_train)\n",
    "    train_staged_error.append(error)\n",
    "    success_rate = successes/len(Y_train)\n",
    "    improvement = (success_rate - baseline)*100/baseline\n",
    "    train_staged_improvement.append(improvement)\n",
    "    \n",
    "plt.plot(test_staged_improvement, label='Test Data')\n",
    "plt.plot(train_staged_improvement, label='Train Data')\n",
    "plt.title(\"% Improvement over Baseline for Consecutive Models\")\n",
    "plt.xlabel(\"Model\")\n",
    "plt.ylabel(\"% Improvement over Baseline\")\n",
    "plt.legend()\n",
    "plt.show()\n",
    "\n",
    "plt.plot(test_staged_error, label='Test Data')\n",
    "plt.plot(test_staged_error, label='Test Data')\n",
    "plt.title(\"Error Rate for Consecutive Models\")\n",
    "plt.xlabel(\"Model\")\n",
    "plt.ylabel(\"Error Rate\")\n",
    "plt.legend()\n",
    "plt.show()\n",
    "\n",
    "predictions = model.predict(X_test)\n",
    "successes = 0\n",
    "for i in range(0, len(predictions)):\n",
    "    if predictions[i] == Y_test.iloc[i]:\n",
    "        successes += 1\n",
    "success_rate = successes/len(Y_test)\n",
    "print(\"{:.2f}% final improvement over the baseline\".format((success_rate - baseline)*100/baseline))"
   ]
  },
  {
   "cell_type": "markdown",
   "metadata": {
    "collapsed": true
   },
   "source": [
    "32% maximum improvement using only most relevant columns (corr coef > 0.5)\n",
    "35% improvement using all columns\n",
    "*improvement will increase with increased max depth of trees, but the plot starts to look wonky\n",
    "\n",
    "for validation that the improvement/error plots look okay: http://people.csail.mit.edu/dsontag/courses/ml12/slides/lecture13.pdf"
   ]
  }
 ],
 "metadata": {
  "kernelspec": {
   "display_name": "Python 3",
   "language": "python",
   "name": "python3"
  },
  "language_info": {
   "codemirror_mode": {
    "name": "ipython",
    "version": 3
   },
   "file_extension": ".py",
   "mimetype": "text/x-python",
   "name": "python",
   "nbconvert_exporter": "python",
   "pygments_lexer": "ipython3",
   "version": "3.6.1"
  }
 },
 "nbformat": 4,
 "nbformat_minor": 2
}
