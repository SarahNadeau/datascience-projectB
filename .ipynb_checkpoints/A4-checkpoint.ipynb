{
 "cells": [
  {
   "cell_type": "markdown",
   "metadata": {},
   "source": [
    "# INFO 1998 Project B\n",
    "## Caleb Chiam, Fareeza Hasan, and Sarah Nadeau"
   ]
  },
  {
   "cell_type": "code",
   "execution_count": 44,
   "metadata": {
    "collapsed": true
   },
   "outputs": [],
   "source": [
    "import seaborn as sns\n",
    "import numpy as np\n",
    "import sklearn\n",
    "import pandas as pd\n",
    "import matplotlib.pyplot as plt\n",
    "from sklearn import datasets, preprocessing\n",
    "from sklearn.model_selection import train_test_split\n",
    "from sklearn.linear_model import LinearRegression\n",
    "from sklearn.neighbors import KNeighborsClassifier\n",
    "from sklearn.metrics import mean_squared_error, r2_score\n",
    "from sklearn.metrics import confusion_matrix\n",
    "import random\n",
    "from scipy.stats import boxcox"
   ]
  },
  {
   "cell_type": "code",
   "execution_count": 45,
   "metadata": {
    "collapsed": true
   },
   "outputs": [],
   "source": [
    "#import cleaned dataset from last project\n",
    "housing_data = pd.DataFrame.from_csv('cleaned.csv')"
   ]
  },
  {
   "cell_type": "markdown",
   "metadata": {},
   "source": [
    "## Linear Regression Model"
   ]
  },
  {
   "cell_type": "code",
   "execution_count": 46,
   "metadata": {
    "collapsed": true
   },
   "outputs": [],
   "source": [
    "# Calculate the baseline for linear regression\n",
    "prices = housing_data.filter(['SalePrice'])\n",
    "avg_price = prices.mean()"
   ]
  },
  {
   "cell_type": "code",
   "execution_count": 47,
   "metadata": {},
   "outputs": [
    {
     "name": "stdout",
     "output_type": "stream",
     "text": [
      "['MSSubClass', 'LotFrontage', 'LotArea', 'OverallQual', 'OverallCond', 'YearBuilt', 'YearRemodAdd', 'BsmtFinSF1', 'BsmtFinSF2', 'BsmtUnfSF', 'TotalBsmtSF', '1stFlrSF', '2ndFlrSF', 'LowQualFinSF', 'GrLivArea', 'BsmtFullBath', 'BsmtHalfBath', 'FullBath', 'HalfBath', 'BedroomAbvGr', 'KitchenAbvGr', 'TotRmsAbvGrd', 'Fireplaces', 'GarageCars', 'GarageArea', 'WoodDeckSF', 'OpenPorchSF', 'EnclosedPorch', '3SsnPorch', 'ScreenPorch', 'PoolArea', 'MiscVal', 'MoSold', 'YrSold', 'SalePrice']\n",
      "Below is the correlation coefficients for SalePrice with each of the other numerical features:\n",
      "\n",
      "1. MSSubClass: -0.08353247161509614\n",
      "2. LotFrontage: 0.20913730036170808\n",
      "3. LotArea: 0.26395544844356883\n",
      "4. OverallQual: 0.790870103285519\n",
      "5. OverallCond: -0.07747076838683668\n",
      "6. YearBuilt: 0.5229250946272648\n",
      "7. YearRemodAdd: 0.5070873870879856\n",
      "8. BsmtFinSF1: 0.38585196108705444\n",
      "9. BsmtFinSF2: -0.013811048393577989\n",
      "10. BsmtUnfSF: 0.2128527540442278\n",
      "11. TotalBsmtSF: 0.6150306002600916\n",
      "12. 1stFlrSF: 0.6056811685298111\n",
      "13. 2ndFlrSF: 0.32045452502532074\n",
      "14. LowQualFinSF: -0.025516478206112695\n",
      "15. GrLivArea: 0.7088612518306577\n",
      "16. BsmtFullBath: 0.22645875233836776\n",
      "17. BsmtHalfBath: -0.016644134378481324\n",
      "18. FullBath: 0.5606660611742321\n",
      "19. HalfBath: 0.28532429636616874\n",
      "20. BedroomAbvGr: 0.16817449421857777\n",
      "21. KitchenAbvGr: -0.13580936177277583\n",
      "22. TotRmsAbvGrd: 0.5338292886465184\n",
      "23. Fireplaces: 0.4667621313668411\n",
      "24. GarageCars: 0.6399663562678245\n",
      "25. GarageArea: 0.622866688949611\n",
      "26. WoodDeckSF: 0.3253222286666079\n",
      "27. OpenPorchSF: 0.31668309318470217\n",
      "28. EnclosedPorch: -0.12835694559264685\n",
      "29. 3SsnPorch: 0.04471266204919865\n",
      "30. ScreenPorch: 0.11175782951631343\n",
      "31. PoolArea: 0.09251910934881509\n",
      "32. MiscVal: -0.021125587025717707\n",
      "33. MoSold: 0.045425238130486066\n",
      "34. YrSold: -0.0296075722419818\n",
      "\n",
      "Below are the columns (and correlation coefficients) that have been deemed significant (absolute coefficient >= 0.5) and will be used in the linear regression model\n",
      "1. OverallQual: 0.790870103285519\n",
      "2. YearBuilt: 0.5229250946272648\n",
      "3. YearRemodAdd: 0.5070873870879856\n",
      "4. TotalBsmtSF: 0.6150306002600916\n",
      "5. 1stFlrSF: 0.6056811685298111\n",
      "6. GrLivArea: 0.7088612518306577\n",
      "7. FullBath: 0.5606660611742321\n",
      "8. TotRmsAbvGrd: 0.5338292886465184\n",
      "9. GarageCars: 0.6399663562678245\n",
      "10. GarageArea: 0.622866688949611\n"
     ]
    }
   ],
   "source": [
    "# Identify the relevant features\n",
    "\n",
    "columns = housing_data.columns\n",
    "column_dtypes = housing_data.dtypes\n",
    "numerical_types = [np.int64, np.int32, np.float32, np.float64]\n",
    "\n",
    "valid_col = [columns[i] for i in range(len(columns)) if column_dtypes[i] in numerical_types]\n",
    "print(valid_col)\n",
    "X = pd.DataFrame(housing_data, columns = valid_col)\n",
    "corr = np.corrcoef(X, rowvar=False)\n",
    "\n",
    "# Get SalePrice corrcoef with everything else\n",
    "sale_price_corr_coef = corr[-1][:-1]\n",
    "\n",
    "significant_col = []\n",
    "significant_col_values = []\n",
    "sig_threshold = 0.5 # arbitrarily setting it at >=0.5\n",
    "print(\"Below is the correlation coefficients for SalePrice with each of the other numerical features:\\n\")\n",
    "for i in range(len(sale_price_corr_coef)):\n",
    "    corr_coef = sale_price_corr_coef[i]\n",
    "    print(\"{}. {}: {}\".format(i+1, valid_col[i], corr_coef))\n",
    "    if abs(corr_coef) >= sig_threshold:\n",
    "        significant_col.append(valid_col[i])\n",
    "        significant_col_values.append(corr_coef)\n",
    "\n",
    "print(\"\\nBelow are the columns (and correlation coefficients) that have been deemed significant (absolute coefficient >= 0.5) and will be used \" +\n",
    "      \"in the linear regression model\")\n",
    "\n",
    "for i in range(len(significant_col)):\n",
    "    print(\"{}. {}: {}\".format(i+1, significant_col[i], significant_col_values[i]))\n",
    "    \n",
    "feature_set = housing_data.filter(significant_col)\n",
    "\n"
   ]
  },
  {
   "cell_type": "code",
   "execution_count": 48,
   "metadata": {
    "collapsed": true
   },
   "outputs": [],
   "source": [
    "splits = [0.1, 0.2, 0.3, 0.4, 0.5]\n",
    "random_states = [42, 1337, 420, 90210, 24]"
   ]
  },
  {
   "cell_type": "code",
   "execution_count": 49,
   "metadata": {
    "collapsed": true
   },
   "outputs": [],
   "source": [
    "def create_and_test_model(dataset, target, test_size, seed):\n",
    "    X_train, X_test, y_train, y_test = train_test_split(dataset, target, test_size = test_size, random_state=seed)\n",
    "    model = LinearRegression()\n",
    "    model = model.fit(X=X_train, y=y_train)\n",
    "    predictions = model.predict(X=X_test)\n",
    "    MSE = sklearn.metrics.mean_squared_error(y_true = y_test, y_pred = predictions)\n",
    "    RMSE = np.sqrt(MSE)\n",
    "    num_targets = len(y_test)\n",
    "    baseline_pred = [avg_price] * num_targets\n",
    "    BaselineMSE = sklearn.metrics.mean_squared_error(y_true = y_test, y_pred = baseline_pred)\n",
    "    BaselineRMSE = np.sqrt(BaselineMSE)\n",
    "    return model, RMSE, BaselineRMSE"
   ]
  },
  {
   "cell_type": "code",
   "execution_count": 50,
   "metadata": {
    "collapsed": true
   },
   "outputs": [],
   "source": [
    "# Create and test model for linear regression for 5 different train_test splits"
   ]
  },
  {
   "cell_type": "code",
   "execution_count": 51,
   "metadata": {},
   "outputs": [
    {
     "name": "stdout",
     "output_type": "stream",
     "text": [
      "The RMSE for the split 0.1 is 31899.344188135525\n",
      "This model performs 59.70% better than the baseline model\n",
      "\n",
      "\n",
      "The RMSE for the split 0.2 is 34524.61572284954\n",
      "This model performs 55.12% better than the baseline model\n",
      "\n",
      "\n",
      "The RMSE for the split 0.3 is 41071.36510190622\n",
      "This model performs 45.40% better than the baseline model\n",
      "\n",
      "\n",
      "The RMSE for the split 0.4 is 38010.6865852632\n",
      "This model performs 54.15% better than the baseline model\n",
      "\n",
      "\n",
      "The RMSE for the split 0.5 is 42517.34137133242\n",
      "This model performs 47.46% better than the baseline model\n",
      "\n",
      "\n"
     ]
    }
   ],
   "source": [
    "for i in range(5):\n",
    "    test_size = splits[i]\n",
    "    seed = random_states[i]\n",
    "    model, RMSE, BaselineRMSE = create_and_test_model(feature_set, prices, test_size, seed)\n",
    "    print(\"The RMSE for the split {} is {}\".format(test_size, RMSE))\n",
    "    improvement = (BaselineRMSE - RMSE) * 100 / BaselineRMSE \n",
    "    print(\"This model performs {:.2f}% better than the baseline model\".format(improvement))\n",
    "    print(\"\\n\")"
   ]
  },
  {
   "cell_type": "markdown",
   "metadata": {},
   "source": [
    "## K - Nearest Neighbors Model"
   ]
  },
  {
   "cell_type": "code",
   "execution_count": 52,
   "metadata": {
    "collapsed": true
   },
   "outputs": [],
   "source": [
    "# Add target variable column 'After1970' to dataframe \n",
    "# Specifies if house was built after 1970 (1) or before (0)\n",
    "housing_data['After1970'] = (housing_data['YearBuilt'] > 1970).astype(int)"
   ]
  },
  {
   "cell_type": "code",
   "execution_count": 53,
   "metadata": {},
   "outputs": [
    {
     "name": "stdout",
     "output_type": "stream",
     "text": [
      "KNN Baseline Value: 0.530542210021\n"
     ]
    }
   ],
   "source": [
    "# Calculate the baseline for KNN\n",
    "baseline = housing_data['After1970'].describe()['mean']\n",
    "print('KNN Baseline Value:', baseline)"
   ]
  },
  {
   "cell_type": "code",
   "execution_count": 54,
   "metadata": {
    "collapsed": true
   },
   "outputs": [],
   "source": [
    "def create_and_test_KNN_model(dataset, target, test_size, seed):\n",
    "    X_train, X_test, y_train, y_test = train_test_split(dataset, target, test_size = test_size, random_state=seed)\n",
    "    model = KNeighborsClassifier(n_neighbors=5)\n",
    "    model = model.fit(X=X_train, y=y_train)\n",
    "    predictions = model.predict(X=X_test)\n",
    "    confusion = confusion_matrix(y_test, predictions)\n",
    "    \n",
    "    return model, confusion"
   ]
  },
  {
   "cell_type": "code",
   "execution_count": 55,
   "metadata": {},
   "outputs": [
    {
     "name": "stdout",
     "output_type": "stream",
     "text": [
      "[ 0.14715621 -0.00746384 -0.03101074  0.57309214 -0.30223309  0.59491449\n",
      "  0.20601538 -0.11157267  0.13269904  0.30913261  0.1951212   0.14708876\n",
      " -0.12117517  0.25431315  0.13801007 -0.06082107  0.5114557   0.26401224\n",
      " -0.03629578 -0.11899307  0.14417634  0.13272778  0.49871043  0.42287349\n",
      "  0.24892266  0.19849122 -0.27556487  0.01837421 -0.07161011  0.02192539\n",
      " -0.04267713 -0.00146904 -0.00809406  0.48378875]\n",
      "Below is the correlation coefficients for SalePrice with each of the other numerical features:\n",
      "\n",
      "1. MSSubClass: 0.14715621065093162\n",
      "2. LotFrontage: -0.007463844971474709\n",
      "3. LotArea: -0.031010744583879948\n",
      "4. OverallQual: 0.5730921439851868\n",
      "5. OverallCond: -0.3022330914318072\n",
      "6. YearRemodAdd: 0.5949144882373884\n",
      "7. BsmtFinSF1: 0.20601538219421847\n",
      "8. BsmtFinSF2: -0.11157267269857586\n",
      "9. BsmtUnfSF: 0.1326990420272374\n",
      "10. TotalBsmtSF: 0.30913261386603597\n",
      "11. 1stFlrSF: 0.19512120455917478\n",
      "12. 2ndFlrSF: 0.14708876055601192\n",
      "13. LowQualFinSF: -0.12117516554286616\n",
      "14. GrLivArea: 0.25431315132570004\n",
      "15. BsmtFullBath: 0.13801007363037485\n",
      "16. BsmtHalfBath: -0.060821069416682645\n",
      "17. FullBath: 0.5114557028869391\n",
      "18. HalfBath: 0.26401224350775104\n",
      "19. BedroomAbvGr: -0.0362957752462179\n",
      "20. KitchenAbvGr: -0.11899306663734827\n",
      "21. TotRmsAbvGrd: 0.1441763422554577\n",
      "22. Fireplaces: 0.13272777695495444\n",
      "23. GarageCars: 0.49871042505542174\n",
      "24. GarageArea: 0.4228734935805594\n",
      "25. WoodDeckSF: 0.24892265985776343\n",
      "26. OpenPorchSF: 0.1984912211134275\n",
      "27. EnclosedPorch: -0.2755648660633289\n",
      "28. 3SsnPorch: 0.0183742102861873\n",
      "29. ScreenPorch: -0.07161010897912233\n",
      "30. PoolArea: 0.021925392294032342\n",
      "31. MiscVal: -0.04267713397037123\n",
      "32. MoSold: -0.0014690391159174444\n",
      "33. YrSold: -0.008094062601081375\n",
      "34. SalePrice: 0.4837887520656438\n",
      "\n",
      "Below are the columns (and correlation coefficients) that have been deemed significant (absolute coefficient >= 0.5) and will be used in the linear regression model\n",
      "1. OverallQual: 0.5730921439851868\n",
      "2. YearRemodAdd: 0.5949144882373884\n",
      "3. FullBath: 0.5114557028869391\n",
      "4. GarageCars: 0.49871042505542174\n",
      "5. GarageArea: 0.4228734935805594\n",
      "6. SalePrice: 0.4837887520656438\n"
     ]
    }
   ],
   "source": [
    "# Identify the relevant features\n",
    "\n",
    "# Inspected all valid numerical features (YearBuilt is excluded) for correlation with After1970\n",
    "# Retained features with high correlation in KNN_relevant_features\n",
    "\n",
    "valid_col.remove('YearBuilt')\n",
    "valid_col.append('After1970')\n",
    "X = pd.DataFrame(housing_data, columns = valid_col)\n",
    "corr = np.corrcoef(X, rowvar=False)\n",
    "\n",
    "after1970_corr_coef = corr[-1][:-1]\n",
    "print(after1970_corr_coef)\n",
    "\n",
    "significant_col = []\n",
    "significant_col_values = []\n",
    "sig_threshold = 0.5 # arbitrarily setting it at >=0.5\n",
    "print(\"Below is the correlation coefficients for SalePrice with each of the other numerical features:\\n\")\n",
    "for i in range(len(after1970_corr_coef)):\n",
    "    corr_coef = after1970_corr_coef[i]\n",
    "    print(\"{}. {}: {}\".format(i+1, valid_col[i], corr_coef))\n",
    "    if abs(corr_coef) >= sig_threshold:\n",
    "        significant_col.append(valid_col[i])\n",
    "        significant_col_values.append(corr_coef)\n",
    "\n",
    "print(\"\\nBelow are the columns (and correlation coefficients) that have been deemed significant (absolute coefficient >= 0.5) and will be used \" +\n",
    "      \"in the linear regression model\")\n",
    "\n",
    "for i in range(len(significant_col)):\n",
    "    print(\"{}. {}: {}\".format(i+1, significant_col[i], significant_col_values[i]))\n",
    "    \n",
    "KNN_feature_set = housing_data.filter(significant_col)\n",
    "\n",
    "\n",
    "\n",
    "# corr = np.corrcoef(X,rowvar=False) #rowvar = False b/c columns are features\n",
    "\n",
    "KNN_relevant_features = ['YearRemodAdd', 'OverallQual', 'GarageCars','FullBath']\n",
    "\n",
    "# Normalize relevant features to between 0 and 1 for KNN distance calculation\n",
    "#KNN_feature_set = housing_data.filter(KNN_relevant_features)\n",
    "KNN_feature_set['YearRemodAdd'] = (KNN_feature_set['YearRemodAdd'] - KNN_feature_set['YearRemodAdd'].min())/(KNN_feature_set['YearRemodAdd'].max() - KNN_feature_set['YearRemodAdd'].min())\n",
    "KNN_feature_set['OverallQual'] = (KNN_feature_set['OverallQual'] - KNN_feature_set['OverallQual'].min())/(KNN_feature_set['OverallQual'].max() - KNN_feature_set['OverallQual'].min())\n",
    "KNN_feature_set['GarageCars'] = (KNN_feature_set['GarageCars'] - KNN_feature_set['GarageCars'].min())/(KNN_feature_set['GarageCars'].max() - KNN_feature_set['GarageCars'].min())\n",
    "KNN_feature_set['FullBath'] = (KNN_feature_set['FullBath'] - KNN_feature_set['FullBath'].min())/(KNN_feature_set['FullBath'].max() - KNN_feature_set['FullBath'].min())\n",
    "\n",
    "After1970 = housing_data.filter(['After1970'])"
   ]
  },
  {
   "cell_type": "code",
   "execution_count": 56,
   "metadata": {},
   "outputs": [
    {
     "name": "stdout",
     "output_type": "stream",
     "text": [
      "Confusion matrix for split 0.1 is: \n",
      " [[47 16]\n",
      " [18 65]]\n",
      "This model performs 44.59% better than the baseline model\n",
      "\n",
      "\n",
      "Confusion matrix for split 0.2 is: \n",
      " [[ 96  28]\n",
      " [ 44 124]]\n",
      "This model performs 42.01% better than the baseline model\n",
      "\n",
      "\n",
      "Confusion matrix for split 0.3 is: \n",
      " [[147  60]\n",
      " [ 56 175]]\n",
      "This model performs 38.57% better than the baseline model\n",
      "\n",
      "\n",
      "Confusion matrix for split 0.4 is: \n",
      " [[196  83]\n",
      " [ 74 230]]\n",
      "This model performs 37.73% better than the baseline model\n",
      "\n",
      "\n",
      "Confusion matrix for split 0.5 is: \n",
      " [[270  71]\n",
      " [ 89 299]]\n",
      "This model performs 47.12% better than the baseline model\n",
      "\n",
      "\n"
     ]
    }
   ],
   "source": [
    "# Use same splits as in linear regression above\n",
    "# Ravel converts column to 1_D array (avoids a data type conversion warning)\n",
    "\n",
    "for i in range(0, 5):\n",
    "    test_size = splits[i] \n",
    "    seed = random_states[i]\n",
    "    model, confusion = create_and_test_KNN_model(KNN_feature_set, np.ravel(After1970), test_size, seed)\n",
    "    print(\"Confusion matrix for split {} is: \\n {}\".format(test_size, confusion))\n",
    "    TP = confusion[0,0]\n",
    "    FN = confusion[1,0]\n",
    "    FP = confusion[0,1]\n",
    "    TN = confusion[1,1]\n",
    "    accuracy = (TP + TN)/(TP + FN + FP + TN)\n",
    "    improvement = (accuracy - baseline) * 100 / baseline \n",
    "    print(\"This model performs {:.2f}% better than the baseline model\".format(improvement))\n",
    "    print(\"\\n\")\n",
    "    "
   ]
  },
  {
   "cell_type": "code",
   "execution_count": null,
   "metadata": {
    "collapsed": true
   },
   "outputs": [],
   "source": []
  }
 ],
 "metadata": {
  "kernelspec": {
   "display_name": "Python 3",
   "language": "python",
   "name": "python3"
  },
  "language_info": {
   "codemirror_mode": {
    "name": "ipython",
    "version": 3
   },
   "file_extension": ".py",
   "mimetype": "text/x-python",
   "name": "python",
   "nbconvert_exporter": "python",
   "pygments_lexer": "ipython3",
   "version": "3.6.1"
  }
 },
 "nbformat": 4,
 "nbformat_minor": 2
}
