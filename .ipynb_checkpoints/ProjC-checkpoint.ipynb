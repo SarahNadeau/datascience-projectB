{
 "cells": [
  {
   "cell_type": "code",
   "execution_count": 120,
   "metadata": {
    "collapsed": true
   },
   "outputs": [],
   "source": [
    "import seaborn as sns\n",
    "import numpy as np\n",
    "import sklearn\n",
    "import pandas as pd\n",
    "import matplotlib.pyplot as plt\n",
    "from sklearn import datasets, preprocessing\n",
    "from sklearn.metrics import accuracy_score\n",
    "from sklearn.model_selection import train_test_split\n",
    "from sklearn.preprocessing import LabelEncoder\n",
    "from sklearn.tree import DecisionTreeClassifier\n",
    "from sklearn.tree import export_graphviz\n",
    "from collections import Counter\n",
    "import random"
   ]
  },
  {
   "cell_type": "code",
   "execution_count": 121,
   "metadata": {
    "collapsed": true
   },
   "outputs": [],
   "source": [
    "#import cleaned dataset from last project\n",
    "data = pd.DataFrame.from_csv('cleaned.csv')"
   ]
  },
  {
   "cell_type": "code",
   "execution_count": 122,
   "metadata": {},
   "outputs": [
    {
     "name": "stdout",
     "output_type": "stream",
     "text": [
      "Counter({'NAmes': 225, 'CollgCr': 149, 'OldTown': 113, 'Edwards': 100, 'Somerst': 86, 'Gilbert': 79, 'NridgHt': 76, 'Sawyer': 74, 'NWAmes': 73, 'SawyerW': 59, 'BrkSide': 58, 'Crawfor': 51, 'Mitchel': 49, 'NoRidge': 41, 'IDOTRR': 37, 'Timber': 37, 'ClearCr': 28, 'StoneBr': 25, 'SWISU': 25, 'MeadowV': 17, 'Blmngtn': 17, 'BrDale': 16, 'Veenker': 11, 'NPkVill': 9, 'Blueste': 2})\n",
      "Number of Neighborhood types: 25\n",
      "Baseline accuracy: 0.15442690459849004\n"
     ]
    }
   ],
   "source": [
    "# Decision Tree Model\n",
    "# Take a look at the target variable distribution and calculate baseline\n",
    "c = Counter(data['Neighborhood'])\n",
    "num_col = len(c)\n",
    "baseline = max(c.values()) / sum(c.values())\n",
    "print(c)\n",
    "print(\"Number of Neighborhood types: \" + str(num_col))\n",
    "print(\"Baseline accuracy: \" + str(baseline))"
   ]
  },
  {
   "cell_type": "code",
   "execution_count": 123,
   "metadata": {},
   "outputs": [],
   "source": [
    "# Encode the dataset with labels\n",
    "enc = LabelEncoder()\n",
    "\n",
    "for i in data.columns:\n",
    "    data[i] = enc.fit_transform(data[i])"
   ]
  },
  {
   "cell_type": "code",
   "execution_count": 124,
   "metadata": {
    "collapsed": true
   },
   "outputs": [],
   "source": [
    "# Store target variable (Neighborhood) as y\n",
    "y = data['Neighborhood']\n",
    "\n",
    "X = data.drop('Neighborhood', axis=1)"
   ]
  },
  {
   "cell_type": "code",
   "execution_count": 125,
   "metadata": {
    "collapsed": true
   },
   "outputs": [],
   "source": [
    "splits = [0.1, 0.2, 0.3, 0.4, 0.5]\n",
    "random_states = [42, 1337, 420, 90210, 24]"
   ]
  },
  {
   "cell_type": "code",
   "execution_count": 126,
   "metadata": {},
   "outputs": [],
   "source": [
    "def create_and_test_decision_tree(dataset, target, test_size, seed):\n",
    "    X_train, X_test, y_train, y_test = train_test_split(dataset, target, test_size = test_size, random_state=seed)\n",
    "    model = DecisionTreeClassifier(max_leaf_nodes=num_col)\n",
    "    model = model.fit(X=X_train, y=y_train)\n",
    "    with open(\"decisiontree.txt\", 'w') as f:\n",
    "        export_graphviz(model, out_file=f, feature_names=list(X))\n",
    "    tree_pred = model.predict(X_test)\n",
    "    score = accuracy_score(y_true = y_test, y_pred = tree_pred)\n",
    "    percent_imprv = 100 * (score - baseline) / baseline \n",
    "    return model, score, percent_imprv"
   ]
  },
  {
   "cell_type": "code",
   "execution_count": 127,
   "metadata": {},
   "outputs": [
    {
     "ename": "ValueError",
     "evalue": "not enough values to unpack (expected 3, got 2)",
     "output_type": "error",
     "traceback": [
      "\u001b[0;31m---------------------------------------------------------------------------\u001b[0m",
      "\u001b[0;31mValueError\u001b[0m                                Traceback (most recent call last)",
      "\u001b[0;32m<ipython-input-127-c480b372e435>\u001b[0m in \u001b[0;36m<module>\u001b[0;34m()\u001b[0m\n\u001b[1;32m      3\u001b[0m     \u001b[0mtest_size\u001b[0m \u001b[0;34m=\u001b[0m \u001b[0msplits\u001b[0m\u001b[0;34m[\u001b[0m\u001b[0mi\u001b[0m\u001b[0;34m]\u001b[0m\u001b[0;34m\u001b[0m\u001b[0m\n\u001b[1;32m      4\u001b[0m     \u001b[0mseed\u001b[0m \u001b[0;34m=\u001b[0m \u001b[0mrandom_states\u001b[0m\u001b[0;34m[\u001b[0m\u001b[0mi\u001b[0m\u001b[0;34m]\u001b[0m\u001b[0;34m\u001b[0m\u001b[0m\n\u001b[0;32m----> 5\u001b[0;31m     \u001b[0mmodel\u001b[0m\u001b[0;34m,\u001b[0m \u001b[0mscore\u001b[0m\u001b[0;34m,\u001b[0m \u001b[0mimprv\u001b[0m \u001b[0;34m=\u001b[0m \u001b[0mcreate_and_test_model\u001b[0m\u001b[0;34m(\u001b[0m\u001b[0mfeature_set\u001b[0m\u001b[0;34m,\u001b[0m \u001b[0mprices\u001b[0m\u001b[0;34m,\u001b[0m \u001b[0mtest_size\u001b[0m\u001b[0;34m,\u001b[0m \u001b[0mseed\u001b[0m\u001b[0;34m)\u001b[0m\u001b[0;34m\u001b[0m\u001b[0m\n\u001b[0m\u001b[1;32m      6\u001b[0m     print(\"The decision tree for the train-test-split of {}-{} has an accuracy score of {}\"\n\u001b[1;32m      7\u001b[0m           .format(1-test_size, test_size, score, 1))\n",
      "\u001b[0;31mValueError\u001b[0m: not enough values to unpack (expected 3, got 2)"
     ]
    }
   ],
   "source": [
    "# Create and test Decision Tree Classifierfor 5 different train_test splits\n",
    "for i in range(5):\n",
    "    test_size = splits[i]\n",
    "    seed = random_states[i]\n",
    "    model, score, imprv = create_and_test_model(feature_set, prices, test_size, seed)\n",
    "    print(\"The decision tree for the train-test-split of {}-{} has an accuracy score\"\n",
    "          .format(1-test_size, test_size))\n",
    "    print(\"Thus, this model is {:.2f}% more accurate than the baseline model\".format(imprv))\n",
    "    print(\"\\n\")"
   ]
  }
 ],
 "metadata": {
  "kernelspec": {
   "display_name": "Python 3",
   "language": "python",
   "name": "python3"
  },
  "language_info": {
   "codemirror_mode": {
    "name": "ipython",
    "version": 3
   },
   "file_extension": ".py",
   "mimetype": "text/x-python",
   "name": "python",
   "nbconvert_exporter": "python",
   "pygments_lexer": "ipython3",
   "version": "3.6.1"
  }
 },
 "nbformat": 4,
 "nbformat_minor": 2
}
