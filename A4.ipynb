{
 "cells": [
  {
   "cell_type": "code",
   "execution_count": 4,
   "metadata": {
    "collapsed": true
   },
   "outputs": [],
   "source": [
    "import seaborn as sns\n",
    "import numpy as np\n",
    "import sklearn\n",
    "import pandas as pd\n",
    "import matplotlib.pyplot as plt\n",
    "from sklearn import datasets\n",
    "from sklearn.linear_model import LinearRegression\n",
    "from sklearn.metrics import mean_squared_error, r2_score\n",
    "import random"
   ]
  },
  {
   "cell_type": "code",
   "execution_count": 5,
   "metadata": {
    "collapsed": true
   },
   "outputs": [],
   "source": [
    "housing_data = pd.DataFrame.from_csv('cleaned.csv')\n",
    "prices = housing_data.filter(['SalePrice'])"
   ]
  },
  {
   "cell_type": "code",
   "execution_count": 19,
   "metadata": {},
   "outputs": [],
   "source": [
    "# Calculate the baseline for linear regression\n",
    "avg_price = prices.mean()"
   ]
  },
  {
   "cell_type": "code",
   "execution_count": 7,
   "metadata": {
    "collapsed": true
   },
   "outputs": [],
   "source": [
    "# Identify the relevant features\n",
    "relevant_features = ['LotFrontage', 'LotArea', 'OverallQual', 'OverallCond', 'YearBuilt', 'YearRemodAdd', 'YrSold']\n",
    "\n",
    "feature_set = housing_data.filter(relevant_features)\n",
    "\n",
    "\n",
    "\n",
    "# Deliberately ignoring features like 1st floor, 2nd floor, garage, masonry veneer area, because a pricey house !=\n",
    "# high values in all such categories. It depends strongly on the housing type as well. LotArea is a catch-all for those\n",
    "# values\n",
    "\n",
    "#housing_features = housing_data[:, []]\n",
    "\n",
    "#determine strength of correlation for features of interest\n",
    "#X = pd.DataFrame(housing_data,columns=['OverallQual', 'GarageCars', 'GarageArea', 'YearRemodAdd', 'YearBuilt', 'WoodDeckSF', 'OpenPorchSF', 'Lot Area', 'SalePrice']) \n",
    "#corr = np.corrcoef(X,rowvar=False) #rowvar = False b/c columns are features\n",
    "#print (corr)"
   ]
  },
  {
   "cell_type": "code",
   "execution_count": 8,
   "metadata": {
    "collapsed": true
   },
   "outputs": [],
   "source": [
    "splits = [(0.9, 0.1), (0.8, 0.2), (0.7, 0.3), (0.6, 0.4), (0.5, 0.5)]\n",
    "random_states = [42, 1337, 420, 90210, 24]"
   ]
  },
  {
   "cell_type": "code",
   "execution_count": 35,
   "metadata": {
    "collapsed": true
   },
   "outputs": [],
   "source": [
    "def create_and_test_model(dataset, target, split, seed):\n",
    "    np.random.seed(seed)\n",
    "    index = np.random.rand(len(dataset)) < split[0]\n",
    "    train_features = dataset[index]\n",
    "    test_features = dataset[~index]\n",
    "    \n",
    "    train_target = target[index]\n",
    "    test_target = target[~index]\n",
    "    model = LinearRegression()\n",
    "    model = model.fit(X=train_features, y=train_target)\n",
    "    predictions = model.predict(X=test_features)\n",
    "    MSE = sklearn.metrics.mean_squared_error(y_true = test_target, y_pred = predictions)\n",
    "    l = ((test_target - predictions)**2).sum() / len(test_target)\n",
    "    num_targets = len(test_target)\n",
    "    baseline_pred = [avg_price] * num_targets\n",
    "    BaselineMSE = sklearn.metrics.mean_squared_error(y_true = test_target, y_pred = baseline_pred)\n",
    "    return model, MSE, BaselineMSE"
   ]
  },
  {
   "cell_type": "code",
   "execution_count": 10,
   "metadata": {
    "collapsed": true
   },
   "outputs": [],
   "source": [
    "# Create and test model for linear regression for 5 different train_test splits"
   ]
  },
  {
   "cell_type": "code",
   "execution_count": 37,
   "metadata": {},
   "outputs": [
    {
     "name": "stdout",
     "output_type": "stream",
     "text": [
      "The MSE for the split (0.9, 0.1) is 3215765127.6261687\n",
      "This MSE is 55.21% better than the baseline model\n",
      "\n",
      "\n",
      "The MSE for the split (0.8, 0.2) is 2230191638.078183\n",
      "This MSE is 65.04% better than the baseline model\n",
      "\n",
      "\n",
      "The MSE for the split (0.7, 0.3) is 1763258783.6486974\n",
      "This MSE is 70.23% better than the baseline model\n",
      "\n",
      "\n",
      "The MSE for the split (0.6, 0.4) is 2377900151.7894597\n",
      "This MSE is 60.20% better than the baseline model\n",
      "\n",
      "\n",
      "The MSE for the split (0.5, 0.5) is 2137031026.2583961\n",
      "This MSE is 66.24% better than the baseline model\n",
      "\n",
      "\n"
     ]
    }
   ],
   "source": [
    "for i in range(5):\n",
    "    split = splits[i]\n",
    "    seed = random_states[i]\n",
    "    model, MSE, BaselineMSE = create_and_test_model(feature_set, prices, split, seed)\n",
    "    print(\"The MSE for the split {} is {}\".format(split, MSE))\n",
    "    improvement = (BaselineMSE - MSE) * 100 / BaselineMSE \n",
    "    print(\"This MSE is {:.2f}% better than the baseline model\".format(improvement))\n",
    "    print(\"\\n\")"
   ]
  },
  {
   "cell_type": "code",
   "execution_count": 11,
   "metadata": {
    "collapsed": true
   },
   "outputs": [],
   "source": [
    "# Calculate the baseline for KNN model"
   ]
  },
  {
   "cell_type": "code",
   "execution_count": null,
   "metadata": {
    "collapsed": true
   },
   "outputs": [],
   "source": [
    "# Identify the relevant features"
   ]
  },
  {
   "cell_type": "code",
   "execution_count": 9,
   "metadata": {
    "collapsed": true
   },
   "outputs": [],
   "source": [
    "# Create and test KNN model for 5 different train_test splits"
   ]
  },
  {
   "cell_type": "code",
   "execution_count": null,
   "metadata": {
    "collapsed": true
   },
   "outputs": [],
   "source": []
  }
 ],
 "metadata": {
  "kernelspec": {
   "display_name": "Python 3",
   "language": "python",
   "name": "python3"
  },
  "language_info": {
   "codemirror_mode": {
    "name": "ipython",
    "version": 3
   },
   "file_extension": ".py",
   "mimetype": "text/x-python",
   "name": "python",
   "nbconvert_exporter": "python",
   "pygments_lexer": "ipython3",
   "version": "3.6.2"
  }
 },
 "nbformat": 4,
 "nbformat_minor": 2
}
