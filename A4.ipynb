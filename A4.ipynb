{
 "cells": [
  {
   "cell_type": "code",
   "execution_count": 103,
   "metadata": {},
   "outputs": [],
   "source": [
    "import seaborn as sns\n",
    "import numpy as np\n",
    "import sklearn\n",
    "import pandas as pd\n",
    "import matplotlib.pyplot as plt\n",
    "from sklearn import datasets, preprocessing\n",
    "from sklearn.model_selection import train_test_split\n",
    "from sklearn.linear_model import LinearRegression\n",
    "from sklearn.neighbors import KNeighborsClassifier\n",
    "from sklearn.metrics import mean_squared_error, r2_score\n",
    "from sklearn.metrics import confusion_matrix\n",
    "import random\n",
    "from scipy.stats import boxcox"
   ]
  },
  {
   "cell_type": "code",
   "execution_count": 12,
   "metadata": {},
   "outputs": [],
   "source": [
    "housing_data = pd.DataFrame.from_csv('cleaned.csv')"
   ]
  },
  {
   "cell_type": "code",
   "execution_count": 86,
   "metadata": {
    "collapsed": true
   },
   "outputs": [],
   "source": [
    "# Calculate the baseline for linear regression\n",
    "prices = housing_data.filter(['SalePrice'])\n",
    "avg_price = prices.mean()"
   ]
  },
  {
   "cell_type": "code",
   "execution_count": 85,
   "metadata": {},
   "outputs": [
    {
     "name": "stdout",
     "output_type": "stream",
     "text": [
      "Below is the correlation coefficients for SalePrice with each of the other numerical features:\n",
      "\n",
      "1. MSSubClass: -0.08353247161509614\n",
      "2. LotFrontage: 0.20913730036170808\n",
      "3. LotArea: 0.26395544844356883\n",
      "4. OverallQual: 0.790870103285519\n",
      "5. OverallCond: -0.07747076838683668\n",
      "6. YearBuilt: 0.5229250946272648\n",
      "7. YearRemodAdd: 0.5070873870879856\n",
      "8. BsmtFinSF1: 0.38585196108705444\n",
      "9. BsmtFinSF2: -0.013811048393577989\n",
      "10. BsmtUnfSF: 0.2128527540442278\n",
      "11. TotalBsmtSF: 0.6150306002600916\n",
      "12. 1stFlrSF: 0.6056811685298111\n",
      "13. 2ndFlrSF: 0.32045452502532074\n",
      "14. LowQualFinSF: -0.025516478206112695\n",
      "15. GrLivArea: 0.7088612518306577\n",
      "16. BsmtFullBath: 0.22645875233836776\n",
      "17. BsmtHalfBath: -0.016644134378481324\n",
      "18. FullBath: 0.5606660611742321\n",
      "19. HalfBath: 0.28532429636616874\n",
      "20. BedroomAbvGr: 0.16817449421857777\n",
      "21. KitchenAbvGr: -0.13580936177277583\n",
      "22. TotRmsAbvGrd: 0.5338292886465184\n",
      "23. Fireplaces: 0.4667621313668411\n",
      "24. GarageCars: 0.6399663562678245\n",
      "25. GarageArea: 0.622866688949611\n",
      "26. WoodDeckSF: 0.3253222286666079\n",
      "27. OpenPorchSF: 0.31668309318470217\n",
      "28. EnclosedPorch: -0.12835694559264685\n",
      "29. 3SsnPorch: 0.04471266204919865\n",
      "30. ScreenPorch: 0.11175782951631343\n",
      "31. PoolArea: 0.09251910934881509\n",
      "32. MiscVal: -0.021125587025717707\n",
      "33. MoSold: 0.045425238130486066\n",
      "34. YrSold: -0.0296075722419818\n",
      "\n",
      "Below are the columns (and correlation coefficients) that have been deemed significant (absolute coefficient >= 0.5) and will be used in the linear regression model\n",
      "1. OverallQual: 0.790870103285519\n",
      "2. YearBuilt: 0.5229250946272648\n",
      "3. YearRemodAdd: 0.5070873870879856\n",
      "4. TotalBsmtSF: 0.6150306002600916\n",
      "5. 1stFlrSF: 0.6056811685298111\n",
      "6. GrLivArea: 0.7088612518306577\n",
      "7. FullBath: 0.5606660611742321\n",
      "8. TotRmsAbvGrd: 0.5338292886465184\n",
      "9. GarageCars: 0.6399663562678245\n",
      "10. GarageArea: 0.622866688949611\n"
     ]
    }
   ],
   "source": [
    "# Identify the relevant features\n",
    "\n",
    "columns = housing_data.columns\n",
    "column_dtypes = housing_data.dtypes\n",
    "numerical_types = [np.int64, np.int32, np.float32, np.float64]\n",
    "\n",
    "valid_col = [columns[i] for i in range(len(columns)) if column_dtypes[i] in numerical_types]\n",
    "X = pd.DataFrame(housing_data, columns = valid_col)\n",
    "corr = np.corrcoef(X, rowvar=False)\n",
    "\n",
    "# Get SalePrice corrcoef with everything else\n",
    "sale_price_corr_coef = corr[-1][:-1]\n",
    "\n",
    "significant_col = []\n",
    "significant_col_values = []\n",
    "sig_threshold = 0.5 # arbitrarily setting it at >=0.5\n",
    "print(\"Below is the correlation coefficients for SalePrice with each of the other numerical features:\\n\")\n",
    "for i in range(len(sale_price_corr_coef)):\n",
    "    corr_coef = sale_price_corr_coef[i]\n",
    "    print(\"{}. {}: {}\".format(i+1, valid_col[i], corr_coef))\n",
    "    if abs(corr_coef) >= sig_threshold:\n",
    "        significant_col.append(valid_col[i])\n",
    "        significant_col_values.append(corr_coef)\n",
    "\n",
    "print(\"\\nBelow are the columns (and correlation coefficients) that have been deemed significant (absolute coefficient >= 0.5) and will be used \" +\n",
    "      \"in the linear regression model\")\n",
    "\n",
    "for i in range(len(significant_col)):\n",
    "    print(\"{}. {}: {}\".format(i+1, significant_col[i], significant_col_values[i]))\n",
    "    \n",
    "feature_set = housing_data.filter(significant_col)\n",
    "\n"
   ]
  },
  {
   "cell_type": "code",
   "execution_count": 80,
   "metadata": {
    "collapsed": true
   },
   "outputs": [],
   "source": [
    "splits = [0.1, 0.2, 0.3, 0.4, 0.5]\n",
    "random_states = [42, 1337, 420, 90210, 24]"
   ]
  },
  {
   "cell_type": "code",
   "execution_count": 109,
   "metadata": {
    "collapsed": true
   },
   "outputs": [],
   "source": [
    "def create_and_test_model(dataset, target, test_size, seed):\n",
    "    X_train, X_test, y_train, y_test = train_test_split(dataset, target, test_size = test_size, random_state=seed)\n",
    "    model = LinearRegression()\n",
    "    model = model.fit(X=X_train, y=y_train)\n",
    "    predictions = model.predict(X=X_test)\n",
    "    MSE = sklearn.metrics.mean_squared_error(y_true = y_test, y_pred = predictions)\n",
    "    RMSE = np.sqrt(MSE)\n",
    "    num_targets = len(y_test)\n",
    "    baseline_pred = [avg_price] * num_targets\n",
    "    BaselineMSE = sklearn.metrics.mean_squared_error(y_true = y_test, y_pred = baseline_pred)\n",
    "    BaselineRMSE = np.sqrt(BaselineMSE)\n",
    "    return model, RMSE, BaselineRMSE"
   ]
  },
  {
   "cell_type": "code",
   "execution_count": 61,
   "metadata": {
    "collapsed": true
   },
   "outputs": [],
   "source": [
    "# Create and test model for linear regression for 5 different train_test splits"
   ]
  },
  {
   "cell_type": "code",
   "execution_count": 111,
   "metadata": {},
   "outputs": [
    {
     "name": "stdout",
     "output_type": "stream",
     "text": [
      "The RMSE for the split 0.1 is 31899.344188135525\n",
      "This model performs 59.70% better than the baseline model\n",
      "\n",
      "\n",
      "The RMSE for the split 0.2 is 34524.61572284954\n",
      "This model performs 55.12% better than the baseline model\n",
      "\n",
      "\n",
      "The RMSE for the split 0.3 is 41071.36510190622\n",
      "This model performs 45.40% better than the baseline model\n",
      "\n",
      "\n",
      "The RMSE for the split 0.4 is 38010.6865852632\n",
      "This model performs 54.15% better than the baseline model\n",
      "\n",
      "\n",
      "The RMSE for the split 0.5 is 42517.34137133242\n",
      "This model performs 47.46% better than the baseline model\n",
      "\n",
      "\n"
     ]
    }
   ],
   "source": [
    "for i in range(5):\n",
    "    test_size = splits[i]\n",
    "    seed = random_states[i]\n",
    "    model, RMSE, BaselineRMSE = create_and_test_model(feature_set, prices, test_size, seed)\n",
    "    print(\"The RMSE for the split {} is {}\".format(test_size, RMSE))\n",
    "    improvement = (BaselineRMSE - RMSE) * 100 / BaselineRMSE \n",
    "    print(\"This model performs {:.2f}% better than the baseline model\".format(improvement))\n",
    "    print(\"\\n\")"
   ]
  },
  {
   "cell_type": "code",
   "execution_count": 63,
   "metadata": {
    "collapsed": true
   },
   "outputs": [],
   "source": [
    "# Calculate the baseline for KNN model\n",
    "\n"
   ]
  },
  {
   "cell_type": "code",
   "execution_count": 64,
   "metadata": {
    "collapsed": true
   },
   "outputs": [],
   "source": [
    "# Create and test KNN model for 5 different train_test splits"
   ]
  },
  {
   "cell_type": "code",
   "execution_count": 65,
   "metadata": {
    "collapsed": true
   },
   "outputs": [],
   "source": [
    "#add column 'After1970' to dataframe to specify if house was built after 1970 (True) or before (False)\n",
    "housing_data['After1970'] = housing_data['YearBuilt'] > 1970"
   ]
  },
  {
   "cell_type": "code",
   "execution_count": 69,
   "metadata": {
    "collapsed": true
   },
   "outputs": [],
   "source": [
    "# Identify the relevant features\n",
    "### NEED TO DO MORE FEATURE ENGINEERING HERE! ###\n",
    "KNN_relevant_features = ['YearRemodAdd', 'OverallQual', 'GarageCars']\n",
    "\n",
    "KNN_feature_set = housing_data.filter(KNN_relevant_features)\n",
    "\n",
    "After1970 = housing_data.filter(['After1970'])\n",
    "\n",
    "#determine strength of correlation for features of interest\n",
    "# X = pd.DataFrame(housing_data,columns=['YearRemodAdd', 'OverallQual', 'GarageCars','YearBuilt']) \n",
    "# corr = np.corrcoef(X,rowvar=False) #rowvar = False b/c columns are features\n",
    "# print (corr)"
   ]
  },
  {
   "cell_type": "markdown",
   "metadata": {},
   "source": [
    "Correlations with YearBuilt are as follows: YearRemodAdd (.59), OverallQual (.57), GarageCars (.54)"
   ]
  },
  {
   "cell_type": "code",
   "execution_count": 79,
   "metadata": {
    "collapsed": true
   },
   "outputs": [],
   "source": [
    "def create_and_test_KNN_model(dataset, target, split, seed):\n",
    "    np.random.seed(seed)\n",
    "    index = np.random.rand(len(dataset)) < split[0]\n",
    "    train_features = dataset[index]\n",
    "    test_features = dataset[~index]\n",
    "    \n",
    "    train_target = target[index]\n",
    "    test_target = target[~index]\n",
    "    \n",
    "    model = KNeighborsClassifier(n_neighbors=1)\n",
    "    \n",
    "    model = model.fit(X=train_features, y=train_target)\n",
    "    predictions = model.predict(X=test_features)\n",
    "    confusion = confusion_matrix(test_target, predictions)\n",
    "    \n",
    "    return model, confusion"
   ]
  },
  {
   "cell_type": "code",
   "execution_count": 83,
   "metadata": {},
   "outputs": [
    {
     "name": "stdout",
     "output_type": "stream",
     "text": [
      "Confusion matrix for split (0.9, 0.1) is: \n",
      " [[63 11]\n",
      " [ 9 68]]\n",
      "Confusion matrix for split (0.8, 0.2) is: \n",
      " [[116  23]\n",
      " [ 21 140]]\n",
      "Confusion matrix for split (0.7, 0.3) is: \n",
      " [[153  33]\n",
      " [ 31 204]]\n",
      "Confusion matrix for split (0.6, 0.4) is: \n",
      " [[217  27]\n",
      " [ 49 258]]\n",
      "Confusion matrix for split (0.5, 0.5) is: \n",
      " [[291  43]\n",
      " [ 39 357]]\n"
     ]
    }
   ],
   "source": [
    "#use same splits as in linear regression above\n",
    "#ravel converts column to 1_D array (avoids a data type conversion warning)\n",
    "\n",
    "for i in range(0, 5):\n",
    "    split = splits[i] \n",
    "    seed = random_states[i]\n",
    "    model, confusion = create_and_test_KNN_model(KNN_feature_set, np.ravel(After1970), split, seed)\n",
    "    print(\"Confusion matrix for split {} is: \\n {}\".format(split, confusion))"
   ]
  },
  {
   "cell_type": "code",
   "execution_count": null,
   "metadata": {
    "collapsed": true
   },
   "outputs": [],
   "source": []
  },
  {
   "cell_type": "code",
   "execution_count": null,
   "metadata": {
    "collapsed": true
   },
   "outputs": [],
   "source": []
  }
 ],
 "metadata": {
  "kernelspec": {
   "display_name": "Python 3",
   "language": "python",
   "name": "python3"
  },
  "language_info": {
   "codemirror_mode": {
    "name": "ipython",
    "version": 3
   },
   "file_extension": ".py",
   "mimetype": "text/x-python",
   "name": "python",
   "nbconvert_exporter": "python",
   "pygments_lexer": "ipython3",
   "version": "3.6.1"
  }
 },
 "nbformat": 4,
 "nbformat_minor": 2
}
