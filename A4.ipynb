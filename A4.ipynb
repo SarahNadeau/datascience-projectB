{
 "cells": [
  {
   "cell_type": "code",
   "execution_count": 73,
   "metadata": {
    "collapsed": true
   },
   "outputs": [],
   "source": [
    "import seaborn as sns\n",
    "import numpy as np\n",
    "import sklearn\n",
    "import pandas as pd\n",
    "import matplotlib.pyplot as plt\n",
    "from sklearn import datasets\n",
    "from sklearn.model_selection import train_test_split\n",
    "from sklearn.linear_model import LinearRegression\n",
    "from sklearn.neighbors import KNeighborsClassifier\n",
    "from sklearn.metrics import mean_squared_error, r2_score\n",
    "from sklearn.metrics import confusion_matrix\n",
    "import random"
   ]
  },
  {
   "cell_type": "code",
   "execution_count": 56,
   "metadata": {
    "collapsed": true
   },
   "outputs": [],
   "source": [
    "housing_data = pd.DataFrame.from_csv('cleaned.csv')"
   ]
  },
  {
   "cell_type": "code",
   "execution_count": 57,
   "metadata": {
    "collapsed": true
   },
   "outputs": [],
   "source": [
    "# Calculate the baseline for linear regression\n"
   ]
  },
  {
   "cell_type": "code",
   "execution_count": 58,
   "metadata": {
    "collapsed": true
   },
   "outputs": [],
   "source": [
    "# Identify the relevant features\n",
    "relevant_features = ['LotFrontage', 'LotArea', 'OverallQual', 'OverallCond', 'YearBuilt', 'YearRemodAdd', 'YrSold']\n",
    "\n",
    "feature_set = housing_data.filter(relevant_features)\n",
    "\n",
    "prices = housing_data.filter(['SalePrice'])\n",
    "\n",
    "# Deliberately ignoring features like 1st floor, 2nd floor, garage, masonry veneer area, because a pricey house !=\n",
    "# high values in all such categories. It depends strongly on the housing type as well. LotArea is a catch-all for those\n",
    "# values\n",
    "\n",
    "#housing_features = housing_data[:, []]\n",
    "\n",
    "#determine strength of correlation for features of interest\n",
    "#X = pd.DataFrame(housing_data,columns=['OverallQual', 'GarageCars', 'GarageArea', 'YearRemodAdd', 'YearBuilt', 'WoodDeckSF', 'OpenPorchSF', 'Lot Area', 'SalePrice']) \n",
    "#corr = np.corrcoef(X,rowvar=False) #rowvar = False b/c columns are features\n",
    "#print (corr)"
   ]
  },
  {
   "cell_type": "code",
   "execution_count": 59,
   "metadata": {
    "collapsed": true
   },
   "outputs": [],
   "source": [
    "splits = [(0.9, 0.1), (0.8, 0.2), (0.7, 0.3), (0.6, 0.4), (0.5, 0.5)]\n",
    "random_states = [42, 1337, 420, 90210, 24]"
   ]
  },
  {
   "cell_type": "code",
   "execution_count": 60,
   "metadata": {
    "collapsed": true
   },
   "outputs": [],
   "source": [
    "def create_and_test_model(dataset, target, split, seed):\n",
    "    np.random.seed(seed)\n",
    "    index = np.random.rand(len(dataset)) < split[0]\n",
    "    train_features = dataset[index]\n",
    "    test_features = dataset[~index]\n",
    "    \n",
    "    train_target = target[index]\n",
    "    test_target = target[~index]\n",
    "    \n",
    "    model = LinearRegression()\n",
    "    \n",
    "    model = model.fit(X=train_features, y=train_target)\n",
    "    predictions = model.predict(X=test_features)\n",
    "    MSE = sklearn.metrics.mean_squared_error(y_true = test_target, y_pred = predictions)\n",
    "    \n",
    "    return model, MSE"
   ]
  },
  {
   "cell_type": "markdown",
   "metadata": {},
   "source": [
    "Correlations with SalePrice are as follows: OverallQual (.79), GarageCars (.64), GarageArea(.62), YearRemodAdd(.51), YearBuilt(.52), WoodDeckSF(.32), OpenPorchSF(.32), Lot Area (.26)"
   ]
  },
  {
   "cell_type": "code",
   "execution_count": 61,
   "metadata": {
    "collapsed": true
   },
   "outputs": [],
   "source": [
    "# Create and test model for linear regression for 5 different train_test splits"
   ]
  },
  {
   "cell_type": "code",
   "execution_count": 62,
   "metadata": {},
   "outputs": [
    {
     "name": "stdout",
     "output_type": "stream",
     "text": [
      "The MSE for the split (0.9, 0.1) is 3215765127.6261983\n",
      "The MSE for the split (0.8, 0.2) is 2230191638.0781784\n",
      "The MSE for the split (0.7, 0.3) is 1763258783.6486988\n",
      "The MSE for the split (0.6, 0.4) is 2377900151.789456\n",
      "The MSE for the split (0.5, 0.5) is 2137031026.2583964\n"
     ]
    }
   ],
   "source": [
    "for i in range(5):\n",
    "    split = splits[i]\n",
    "    seed = random_states[i]\n",
    "    model, MSE = create_and_test_model(feature_set, prices, split, seed)\n",
    "    print(\"The MSE for the split {} is {}\".format(split, MSE))"
   ]
  },
  {
   "cell_type": "code",
   "execution_count": 63,
   "metadata": {
    "collapsed": true
   },
   "outputs": [],
   "source": [
    "# Calculate the baseline for KNN model\n",
    "\n"
   ]
  },
  {
   "cell_type": "code",
   "execution_count": 64,
   "metadata": {
    "collapsed": true
   },
   "outputs": [],
   "source": [
    "# Create and test KNN model for 5 different train_test splits"
   ]
  },
  {
   "cell_type": "code",
   "execution_count": 65,
   "metadata": {
    "collapsed": true
   },
   "outputs": [],
   "source": [
    "#add column 'After1970' to dataframe to specify if house was built after 1970 (True) or before (False)\n",
    "housing_data['After1970'] = housing_data['YearBuilt'] > 1970"
   ]
  },
  {
   "cell_type": "code",
   "execution_count": 69,
   "metadata": {},
   "outputs": [],
   "source": [
    "# Identify the relevant features\n",
    "### NEED TO DO MORE FEATURE ENGINEERING HERE! ###\n",
    "KNN_relevant_features = ['YearRemodAdd', 'OverallQual', 'GarageCars']\n",
    "\n",
    "KNN_feature_set = housing_data.filter(KNN_relevant_features)\n",
    "\n",
    "After1970 = housing_data.filter(['After1970'])\n",
    "\n",
    "#determine strength of correlation for features of interest\n",
    "# X = pd.DataFrame(housing_data,columns=['YearRemodAdd', 'OverallQual', 'GarageCars','YearBuilt']) \n",
    "# corr = np.corrcoef(X,rowvar=False) #rowvar = False b/c columns are features\n",
    "# print (corr)"
   ]
  },
  {
   "cell_type": "markdown",
   "metadata": {},
   "source": [
    "Correlations with YearBuilt are as follows: YearRemodAdd (.59), OverallQual (.57), GarageCars (.54)"
   ]
  },
  {
   "cell_type": "code",
   "execution_count": 79,
   "metadata": {
    "collapsed": true
   },
   "outputs": [],
   "source": [
    "def create_and_test_KNN_model(dataset, target, split, seed):\n",
    "    np.random.seed(seed)\n",
    "    index = np.random.rand(len(dataset)) < split[0]\n",
    "    train_features = dataset[index]\n",
    "    test_features = dataset[~index]\n",
    "    \n",
    "    train_target = target[index]\n",
    "    test_target = target[~index]\n",
    "    \n",
    "    model = KNeighborsClassifier(n_neighbors=1)\n",
    "    \n",
    "    model = model.fit(X=train_features, y=train_target)\n",
    "    predictions = model.predict(X=test_features)\n",
    "    confusion = confusion_matrix(test_target, predictions)\n",
    "    \n",
    "    return model, confusion"
   ]
  },
  {
   "cell_type": "code",
   "execution_count": 83,
   "metadata": {},
   "outputs": [
    {
     "name": "stdout",
     "output_type": "stream",
     "text": [
      "Confusion matrix for split (0.9, 0.1) is: \n",
      " [[63 11]\n",
      " [ 9 68]]\n",
      "Confusion matrix for split (0.8, 0.2) is: \n",
      " [[116  23]\n",
      " [ 21 140]]\n",
      "Confusion matrix for split (0.7, 0.3) is: \n",
      " [[153  33]\n",
      " [ 31 204]]\n",
      "Confusion matrix for split (0.6, 0.4) is: \n",
      " [[217  27]\n",
      " [ 49 258]]\n",
      "Confusion matrix for split (0.5, 0.5) is: \n",
      " [[291  43]\n",
      " [ 39 357]]\n"
     ]
    }
   ],
   "source": [
    "#use same splits as in linear regression above\n",
    "#ravel converts column to 1_D array (avoids a data type conversion warning)\n",
    "\n",
    "for i in range(0, 5):\n",
    "    split = splits[i] \n",
    "    seed = random_states[i]\n",
    "    model, confusion = create_and_test_KNN_model(KNN_feature_set, np.ravel(After1970), split, seed)\n",
    "    print(\"Confusion matrix for split {} is: \\n {}\".format(split, confusion))"
   ]
  },
  {
   "cell_type": "code",
   "execution_count": null,
   "metadata": {
    "collapsed": true
   },
   "outputs": [],
   "source": []
  },
  {
   "cell_type": "code",
   "execution_count": null,
   "metadata": {
    "collapsed": true
   },
   "outputs": [],
   "source": []
  }
 ],
 "metadata": {
  "kernelspec": {
   "display_name": "Python 3",
   "language": "python",
   "name": "python3"
  },
  "language_info": {
   "codemirror_mode": {
    "name": "ipython",
    "version": 3
   },
   "file_extension": ".py",
   "mimetype": "text/x-python",
   "name": "python",
   "nbconvert_exporter": "python",
   "pygments_lexer": "ipython3",
   "version": "3.6.1"
  }
 },
 "nbformat": 4,
 "nbformat_minor": 2
}
