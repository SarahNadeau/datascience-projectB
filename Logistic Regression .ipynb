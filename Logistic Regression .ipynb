{
 "cells": [
  {
   "cell_type": "code",
   "execution_count": 86,
   "metadata": {
    "collapsed": true
   },
   "outputs": [],
   "source": [
    "# import necessary packages\n",
    "import pandas as pd\n",
    "from sklearn.metrics import accuracy_score\n",
    "from sklearn.model_selection import train_test_split\n",
    "from sklearn.preprocessing import LabelEncoder\n",
    "from collections import Counter\n",
    "from sklearn.linear_model import LogisticRegression"
   ]
  },
  {
   "cell_type": "code",
   "execution_count": 87,
   "metadata": {},
   "outputs": [],
   "source": [
    "#import cleaned dataset from last project\n",
    "data = pd.DataFrame.from_csv('cleaned.csv')\n",
    "Y = (data['OverallQual'] > 5).astype(int)\n",
    "# convert all features to categorical integer values\n",
    "enc = LabelEncoder()\n",
    "for i in data.columns:\n",
    "    data[i] = enc.fit_transform(data[i])"
   ]
  },
  {
   "cell_type": "code",
   "execution_count": 88,
   "metadata": {
    "collapsed": true
   },
   "outputs": [],
   "source": [
    "# Add target variable column 'qualAboveAverage' to dataframe \n",
    "# Specifies if house quality is above agerage (1) or below average(0)\n"
   ]
  },
  {
   "cell_type": "code",
   "execution_count": 89,
   "metadata": {},
   "outputs": [
    {
     "name": "stdout",
     "output_type": "stream",
     "text": [
      "Logistic Regression Baseline Value: 0.631434454358\n"
     ]
    }
   ],
   "source": [
    "# Store target variable (qualAboveAverage) as y\n",
    "data = data.drop('OverallQual', axis=1)\n",
    "X = pd.DataFrame()\n",
    "# Calculate the baseline for Logistic Regression model\n",
    "logit_baseline = max(Y.value_counts())/len(Y)\n",
    "print('Logistic Regression Baseline Value:', logit_baseline)"
   ]
  },
  {
   "cell_type": "code",
   "execution_count": 90,
   "metadata": {
    "scrolled": false
   },
   "outputs": [],
   "source": [
    "\"\"\"\n",
    "for column in data.columns.values:\n",
    "    corr = abs(data[column].corr(Y))\n",
    "    if corr > .2:\n",
    "        print(column + ':', corr)\n",
    "        X[column] = data[column]\n",
    "\"\"\"\n",
    "X = data.filter(['YearBuilt', 'YearRemodAdd', 'BsmtQual', 'TotalBsmtSF', 'GrLivArea',\n",
    "       'FullBath', 'KitchenQual', 'GarageCars', 'GarageArea', 'SalePrice',\n",
    "       'OverallQual', 'ExterQual', 'BsmtCond', 'BsmtUnfSF', '1stFlrSF',\n",
    "       '2ndFlrSF', 'HalfBath', 'TotRmsAbvGrd', 'Fireplaces', 'GarageQual',\n",
    "       'OpenPorchSF', 'MSSubClass', 'BsmtFinSF1', 'KitchenAbvGr', 'WoodDeckSF',\n",
    "       'Foundation', 'HeatingQC', 'GarageYrBlt'])"
   ]
  },
  {
   "cell_type": "code",
   "execution_count": 91,
   "metadata": {
    "collapsed": true
   },
   "outputs": [],
   "source": [
    "splits = [0.1, 0.2, 0.3, 0.4, 0.5]\n",
    "random_states = [98, 1560, 999, 105002, 77393]"
   ]
  },
  {
   "cell_type": "code",
   "execution_count": 92,
   "metadata": {},
   "outputs": [
    {
     "name": "stdout",
     "output_type": "stream",
     "text": [
      "['YearBuilt' 'YearRemodAdd' 'BsmtQual' 'TotalBsmtSF' 'GrLivArea' 'FullBath'\n",
      " 'KitchenQual' 'GarageCars' 'GarageArea' 'SalePrice' 'ExterQual' 'BsmtCond'\n",
      " 'BsmtUnfSF' '1stFlrSF' '2ndFlrSF' 'HalfBath' 'TotRmsAbvGrd' 'Fireplaces'\n",
      " 'GarageQual' 'OpenPorchSF' 'MSSubClass' 'BsmtFinSF1' 'KitchenAbvGr'\n",
      " 'WoodDeckSF' 'Foundation' 'HeatingQC' 'GarageYrBlt']\n",
      "The Logistic Regression for a train-test-split of 0.9-0.1 has an accuracy score of:\n",
      "0.8630\n",
      "Thus, this model is 36.68% more accurate than the baseline model.\n",
      "\n",
      "\n",
      "The Logistic Regression for a train-test-split of 0.8-0.2 has an accuracy score of:\n",
      "0.8459\n",
      "Thus, this model is 33.96% more accurate than the baseline model.\n",
      "\n",
      "\n",
      "The Logistic Regression for a train-test-split of 0.7-0.3 has an accuracy score of:\n",
      "0.8196\n",
      "Thus, this model is 29.81% more accurate than the baseline model.\n",
      "\n",
      "\n",
      "The Logistic Regression for a train-test-split of 0.6-0.4 has an accuracy score of:\n",
      "0.8662\n",
      "Thus, this model is 37.18% more accurate than the baseline model.\n",
      "\n",
      "\n",
      "The Logistic Regression for a train-test-split of 0.5-0.5 has an accuracy score of:\n",
      "0.8477\n",
      "Thus, this model is 34.26% more accurate than the baseline model.\n",
      "\n",
      "\n"
     ]
    }
   ],
   "source": [
    "# build model and fit on train set\n",
    "model = LogisticRegression()\n",
    "print(X.columns.values)\n",
    "for i in range(0,5):\n",
    "    # Split dataset into training and test data\n",
    "    X_train, X_test, Y_train, Y_test = train_test_split(X, Y, test_size=splits[i], random_state=random_states[i])\n",
    "    # Fit the model to the training data\n",
    "    model.fit(X_train, Y_train)\n",
    "    # Predict on the testing data\n",
    "    model.predict(X_test)\n",
    "    # Test the score of the model\n",
    "    score = model.score(X_test, Y_test)\n",
    "    # Calculate % improvement over the baseline\n",
    "    improvement = 100*(score - logit_baseline)/logit_baseline\n",
    "    print(\"The Logistic Regression for a train-test-split of {}-{} has an accuracy score of:\\n{:.4f}\"\n",
    "          .format(1-splits[i], splits[i], score))\n",
    "    print(\"Thus, this model is {:.2f}% more accurate than the baseline model.\"\n",
    "          .format(improvement))\n",
    "    print(\"\\n\")"
   ]
  }
 ],
 "metadata": {
  "kernelspec": {
   "display_name": "Python 3",
   "language": "python",
   "name": "python3"
  },
  "language_info": {
   "codemirror_mode": {
    "name": "ipython",
    "version": 3
   },
   "file_extension": ".py",
   "mimetype": "text/x-python",
   "name": "python",
   "nbconvert_exporter": "python",
   "pygments_lexer": "ipython3",
   "version": "3.6.1"
  }
 },
 "nbformat": 4,
 "nbformat_minor": 2
}
